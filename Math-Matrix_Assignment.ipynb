{
 "cells": [
  {
   "cell_type": "code",
   "execution_count": 5,
   "metadata": {
    "collapsed": true
   },
   "outputs": [],
   "source": [
    "import numpy as np\n",
    "import math"
   ]
  },
  {
   "cell_type": "code",
   "execution_count": 6,
   "metadata": {
    "collapsed": true
   },
   "outputs": [],
   "source": [
    "a_ndarray = np.array([[-1, 2, 3], [4, -5, 6], [7, 8, -9]])\n",
    "b_ndarray = np.array([[0, 2, 1], [0, 2, -8], [2, 9, -1]])"
   ]
  },
  {
   "cell_type": "markdown",
   "metadata": {},
   "source": [
    "# Problem 1\n",
    "Matrix product, manually  "
   ]
  },
  {
   "cell_type": "code",
   "execution_count": 33,
   "metadata": {},
   "outputs": [
    {
     "data": {
      "text/plain": [
       "array([[  6,  29, -20],\n",
       "       [ 12,  52,  38],\n",
       "       [-18, -51, -48]])"
      ]
     },
     "execution_count": 33,
     "metadata": {},
     "output_type": "execute_result"
    }
   ],
   "source": [
    "## matrix multiplication \n",
    "## matrix product, has the number of rows of the first and the number of columns of the second matrix\n",
    "## c_i_j (i-th row j-th column element of c array) is the dot product of the a's i-th row and b's j-th column\n",
    "c_array1=[[0,0,0],[0,0,0],[0,0,0]]\n",
    "c_array1[0][0] = a_ndarray[0][0]*b_ndarray[0][0]+a_ndarray[0][1]*b_ndarray[1][0]+a_ndarray[0][2]*b_ndarray[2][0]\n",
    "c_array1[0][1] = a_ndarray[0][0]*b_ndarray[0][1]+a_ndarray[0][1]*b_ndarray[1][1]+a_ndarray[0][2]*b_ndarray[2][1]\n",
    "c_array1[0][2] = a_ndarray[0][0]*b_ndarray[0][2]+a_ndarray[0][1]*b_ndarray[1][2]+a_ndarray[0][2]*b_ndarray[2][2]\n",
    "c_array1[1][0] = a_ndarray[1][0]*b_ndarray[0][0]+a_ndarray[1][1]*b_ndarray[1][0]+a_ndarray[1][2]*b_ndarray[2][0]\n",
    "c_array1[1][1] = a_ndarray[1][0]*b_ndarray[0][1]+a_ndarray[1][1]*b_ndarray[1][1]+a_ndarray[1][2]*b_ndarray[2][1]\n",
    "c_array1[1][2] = a_ndarray[1][0]*b_ndarray[0][2]+a_ndarray[1][1]*b_ndarray[1][2]+a_ndarray[1][2]*b_ndarray[2][2]\n",
    "c_array1[2][0] = a_ndarray[2][0]*b_ndarray[0][0]+a_ndarray[2][1]*b_ndarray[1][0]+a_ndarray[2][2]*b_ndarray[2][0]\n",
    "c_array1[2][1] = a_ndarray[2][0]*b_ndarray[0][1]+a_ndarray[2][1]*b_ndarray[1][1]+a_ndarray[2][2]*b_ndarray[2][1]\n",
    "c_array1[2][2] = a_ndarray[2][0]*b_ndarray[0][2]+a_ndarray[2][1]*b_ndarray[1][2]+a_ndarray[2][2]*b_ndarray[2][2]\n",
    "np.array(c_array1)"
   ]
  },
  {
   "cell_type": "markdown",
   "metadata": {},
   "source": [
    "Note for code above:\n",
    "Previously, I wrote and used the code on Problem 3 in here, but it appears we use loop in the Problem 3. Therefore, copied the code there and changed this code. In the instuction it was \"by hand\", so I thought element-wise multiplication and addition should be done here, like we do on the paper."
   ]
  },
  {
   "cell_type": "markdown",
   "metadata": {
    "collapsed": true
   },
   "source": [
    "# Problem 2\n",
    "use function"
   ]
  },
  {
   "cell_type": "code",
   "execution_count": 16,
   "metadata": {},
   "outputs": [
    {
     "data": {
      "text/plain": [
       "array([[  6,  29, -20],\n",
       "       [ 12,  52,  38],\n",
       "       [-18, -51, -48]])"
      ]
     },
     "execution_count": 16,
     "metadata": {},
     "output_type": "execute_result"
    }
   ],
   "source": [
    "c_array2 = np.matmul(a_ndarray,b_ndarray)\n",
    "c_array2"
   ]
  },
  {
   "cell_type": "markdown",
   "metadata": {},
   "source": [
    "# Problem 3\n",
    "code for matrix multiplication without using matmul() or dot() "
   ]
  },
  {
   "cell_type": "code",
   "execution_count": 30,
   "metadata": {},
   "outputs": [
    {
     "data": {
      "text/plain": [
       "array([[  6,  29, -20],\n",
       "       [ 12,  52,  38],\n",
       "       [-18, -51, -48]])"
      ]
     },
     "execution_count": 30,
     "metadata": {},
     "output_type": "execute_result"
    }
   ],
   "source": [
    "c_array3 = [[0,0,0],\n",
    "            [0,0,0],\n",
    "            [0,0,0]]\n",
    "for i in range(len(a_ndarray)):\n",
    "   for j in range(len(b_ndarray[0])):\n",
    "       for k in range(len(b_ndarray)):\n",
    "            c_array3[i][j] += a_ndarray[i][k] * b_ndarray[k][j]\n",
    "np.array(c_array3)"
   ]
  },
  {
   "cell_type": "markdown",
   "metadata": {},
   "source": [
    "# Problem 4\n",
    "function, different code"
   ]
  },
  {
   "cell_type": "code",
   "execution_count": 53,
   "metadata": {},
   "outputs": [
    {
     "name": "stdout",
     "output_type": "stream",
     "text": [
      "[[  6  29 -20]\n",
      " [ 12  52  38]\n",
      " [-18 -51 -48]]\n"
     ]
    }
   ],
   "source": [
    "def mat_mul(a,b):\n",
    "    c_array = np.array([[sum(i*j for i,j in zip(a_rows,b_cols)) for b_cols in zip(*b_ndarray)] for a_rows in a_ndarray])\n",
    "    return c_array\n",
    "print(mat_mul(a_ndarray,b_ndarray))"
   ]
  },
  {
   "cell_type": "markdown",
   "metadata": {},
   "source": [
    "# Problem 5\n",
    "check the dimensions of the matrices"
   ]
  },
  {
   "cell_type": "code",
   "execution_count": 49,
   "metadata": {
    "collapsed": true
   },
   "outputs": [],
   "source": [
    "d_ndarray = np.array([[-1, 2, 3], [4, -5, 6]])\n",
    "e_ndarray = np.array([[-9, 8, 7], [6, -5, 4]])"
   ]
  },
  {
   "cell_type": "code",
   "execution_count": 54,
   "metadata": {},
   "outputs": [
    {
     "name": "stdout",
     "output_type": "stream",
     "text": [
      "Can't perform matrix multiplication. Number of columns in A matrix should be equal the number of rows in B matrix. \n",
      "None\n"
     ]
    }
   ],
   "source": [
    "def mat_mul(a,b):\n",
    "    a_row,a_col = a.shape\n",
    "    b_row, b_col = b.shape\n",
    "    if (a_col == b_row):\n",
    "        c_array = np.array([[sum(i*j for i,j in zip(a_rows,b_cols)) for b_cols in zip(*b_ndarray)] for a_rows in a_ndarray])\n",
    "        return c_array\n",
    "    else:\n",
    "        print(\"Can't perform matrix multiplication. Number of columns in A matrix should be equal the number of rows in B matrix. \")\n",
    "print(mat_mul(d_ndarray,e_ndarray))"
   ]
  },
  {
   "cell_type": "markdown",
   "metadata": {},
   "source": [
    "# Problem 6\n",
    "matrix multiplication using transpose"
   ]
  },
  {
   "cell_type": "code",
   "execution_count": 70,
   "metadata": {},
   "outputs": [
    {
     "name": "stdout",
     "output_type": "stream",
     "text": [
      "[[  6.  29. -20.]\n",
      " [ 12.  52.  38.]\n",
      " [-18. -51. -48.]]\n"
     ]
    }
   ],
   "source": [
    "def mat_mul(a,b):\n",
    "    a_row,a_col = a.shape\n",
    "    b_row, b_col = b.shape\n",
    "    if (a_col == b_row):\n",
    "        # resulting matrix dimension would be (a_row,b_col)\n",
    "        c = np.zeros((a_row,b_col))\n",
    "        b = np.transpose(b)\n",
    "        # only uses 2 loops with transposed B matrix\n",
    "        for i in range(len(a)):\n",
    "            for j in range(len(b)):\n",
    "                # instead of using similar statement like in Problem 3, just used dot product function\n",
    "                c[i][j]= np.dot(a[i],b[j])\n",
    "        return c\n",
    "    else:\n",
    "        print(\"Can't perform matrix multiplication. Number of columns in A matrix should be equal the number of rows in B matrix.\")\n",
    "print(mat_mul(a_ndarray,b_ndarray))"
   ]
  }
 ],
 "metadata": {
  "kernelspec": {
   "display_name": "Python 3",
   "language": "python",
   "name": "python3"
  },
  "language_info": {
   "codemirror_mode": {
    "name": "ipython",
    "version": 3
   },
   "file_extension": ".py",
   "mimetype": "text/x-python",
   "name": "python",
   "nbconvert_exporter": "python",
   "pygments_lexer": "ipython3",
   "version": "3.6.1"
  }
 },
 "nbformat": 4,
 "nbformat_minor": 2
}
