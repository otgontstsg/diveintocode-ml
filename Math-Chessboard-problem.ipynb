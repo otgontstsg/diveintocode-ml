{
 "cells": [
  {
   "cell_type": "code",
   "execution_count": 33,
   "metadata": {
    "collapsed": true
   },
   "outputs": [],
   "source": [
    "#library\n",
    "import numpy as np\n",
    "import matplotlib.pyplot as plt"
   ]
  },
  {
   "cell_type": "markdown",
   "metadata": {},
   "source": [
    "# Problem 1\n",
    "2x2 chessboard"
   ]
  },
  {
   "cell_type": "code",
   "execution_count": 55,
   "metadata": {},
   "outputs": [
    {
     "name": "stdout",
     "output_type": "stream",
     "text": [
      "Arrange wheat on a plate of 4 squares (list)：[1, 2, 4, 8]\n"
     ]
    }
   ],
   "source": [
    "# sample code from diver\n",
    "n_squares = 4\n",
    "small_board_list = [1]\n",
    "for _ in range(n_squares - 1):\n",
    "    small_board_list.append(2*small_board_list[-1])\n",
    "print(\"Arrange wheat on a plate of 4 squares (list)：{}\".format(small_board_list))"
   ]
  },
  {
   "cell_type": "code",
   "execution_count": 56,
   "metadata": {},
   "outputs": [
    {
     "name": "stdout",
     "output_type": "stream",
     "text": [
      "Arrange wheat on a plate of 4 squares (ndarray)：[[1 2]\n",
      " [4 8]]\n"
     ]
    }
   ],
   "source": [
    "small_board_ndarray = np.array(small_board_list)\n",
    "small_board_ndarray = small_board_ndarray.reshape(2,2)\n",
    "print(\"Arrange wheat on a plate of 4 squares (ndarray)：{}\".format(small_board_ndarray))"
   ]
  },
  {
   "cell_type": "markdown",
   "metadata": {},
   "source": [
    "# Problem 2\n",
    "nxm chessboard extension, function"
   ]
  },
  {
   "cell_type": "code",
   "execution_count": 68,
   "metadata": {},
   "outputs": [
    {
     "name": "stdout",
     "output_type": "stream",
     "text": [
      "Number of wheats on the 8x8 chessboard: 1.84467440737e+19\n"
     ]
    }
   ],
   "source": [
    "def calculate_wheat_chessboard (n,m):\n",
    "    elements = n*m\n",
    "    board_list = [1]\n",
    "    for _ in range(elements - 1):\n",
    "        board_list.append(2*board_list[-1])  \n",
    "    board_array = np.array(board_list)\n",
    "    board_array = board_array.reshape(n,m)\n",
    "    number_wheat = np.sum(board_array)\n",
    "    return number_wheat\n",
    "total_wheat_8 = calculate_wheat_chessboard(8,8)\n",
    "print(\"Number of wheats on the 8x8 chessboard:\",total_wheat_8)"
   ]
  },
  {
   "cell_type": "markdown",
   "metadata": {},
   "source": [
    "# Problem 3\n",
    "bar chart, average of column"
   ]
  },
  {
   "cell_type": "code",
   "execution_count": 69,
   "metadata": {},
   "outputs": [
    {
     "name": "stdout",
     "output_type": "stream",
     "text": [
      "Number of wheats on the 8x8 chessboard: 1.84467440737e+19\n",
      "Average of columns: [  9.04252160e+15   1.80850432e+16   3.61700864e+16   7.23401728e+16\n",
      "   1.44680346e+17   2.89360691e+17   5.78721383e+17   1.15744277e+18]\n"
     ]
    },
    {
     "data": {
      "image/png": "[encoded data removed]",
      "text/plain": [
       "<matplotlib.figure.Figure at 0x7e65150>"
      ]
     },
     "metadata": {},
     "output_type": "display_data"
    }
   ],
   "source": [
    "def calculate_wheat_chessboard (n,m):\n",
    "    elements = n*m\n",
    "    board_list = [1]\n",
    "    for _ in range(elements - 1):\n",
    "        board_list.append(2*board_list[-1])  \n",
    "    board_array = np.array(board_list)\n",
    "    board_array = board_array.reshape(n,m)\n",
    "    number_wheat = np.sum(board_array)\n",
    "    aver_col_wheat = np.average(board_array,axis=0)\n",
    "    return board_array,number_wheat, aver_col_wheat\n",
    "array_8,total_wheat_8, aver_col = calculate_wheat_chessboard(8,8)\n",
    "print(\"Number of wheats on the 8x8 chessboard:\",total_wheat_8)\n",
    "print(\"Average of columns:\",aver_col)\n",
    "plt.xlabel(\"column\")\n",
    "plt.ylabel(\"aver wheat number\")\n",
    "plt.title(\"Average in each column\")\n",
    "plt.bar(np.arange(1,9), aver_col)\n",
    "plt.show()"
   ]
  },
  {
   "cell_type": "markdown",
   "metadata": {},
   "source": [
    "# Problem 4\n",
    "Heatmap"
   ]
  },
  {
   "cell_type": "code",
   "execution_count": 70,
   "metadata": {},
   "outputs": [
    {
     "data": {
      "image/png": "[encoded data removed]",
      "text/plain": [
       "<matplotlib.figure.Figure at 0x7d48650>"
      ]
     },
     "metadata": {},
     "output_type": "display_data"
    }
   ],
   "source": [
    "plt.xlabel(\"column\")\n",
    "plt.ylabel(\"row\")\n",
    "plt.title(\"Heatmap of wheats in chessboard\")\n",
    "plt.pcolor(array_8)\n",
    "plt.show()"
   ]
  },
  {
   "cell_type": "markdown",
   "metadata": {},
   "source": [
    "# Problem 5\n",
    "How many times is the second half is greater than first half?"
   ]
  },
  {
   "cell_type": "code",
   "execution_count": 71,
   "metadata": {},
   "outputs": [
    {
     "name": "stdout",
     "output_type": "stream",
     "text": [
      "The second half has  4294967296.0 times many wheats compared to the first half of the chessboard.\n"
     ]
    }
   ],
   "source": [
    "print(\"The second half has \",np.sum(array_8[4:8][:])/np.sum(array_8[0:4][:]),\"times many wheats compared to the first half of the chessboard.\")"
   ]
  },
  {
   "cell_type": "markdown",
   "metadata": {},
   "source": [
    "# Problem 6\n",
    "Mass calculation"
   ]
  },
  {
   "cell_type": "code",
   "execution_count": 80,
   "metadata": {},
   "outputs": [
    {
     "name": "stdout",
     "output_type": "stream",
     "text": [
      "Number of wheats on the 8x8 chessboard: 18446744073709551615\n",
      "Weight of the all wheats on the chessboard: 1.19903836479e+15 kg\n"
     ]
    }
   ],
   "source": [
    "# same function as Problem 2, different method\n",
    "def calculate_wheat(n,m):\n",
    "    elements = n*m\n",
    "    indices_of_squares = np.arange(elements).astype(np.uint64)\n",
    "    board_ndarray = 2**indices_of_squares\n",
    "    board_array = board_ndarray.reshape(n,m)  \n",
    "    number_wheat = np.sum(board_array)\n",
    "    # one grain of wheat is 65mg = 0.000065 kg\n",
    "    weight = number_wheat * 0.000065\n",
    "    return number_wheat, weight\n",
    "total_wheat,weight_wheat = calculate_wheat(8,8)\n",
    "print(\"Number of wheats on the 8x8 chessboard:\",total_wheat)\n",
    "print(\"Weight of the all wheats on the chessboard:\",weight_wheat,\"kg\")"
   ]
  },
  {
   "cell_type": "markdown",
   "metadata": {},
   "source": [
    "# Problem 7\n",
    "calculation time"
   ]
  },
  {
   "cell_type": "code",
   "execution_count": 83,
   "metadata": {},
   "outputs": [
    {
     "name": "stdout",
     "output_type": "stream",
     "text": [
      "59.1 ns ± 14 ns per loop (mean ± std. dev. of 7 runs, 10000000 loops each)\n"
     ]
    }
   ],
   "source": [
    "# method 1\n",
    "%timeit elements = 64\n",
    "board_list = [1]\n",
    "for _ in range(elements - 1):\n",
    "    board_list.append(2*board_list[-1])  \n",
    "board_array = np.array(board_list)\n",
    "board_array = board_array.reshape(8,8)"
   ]
  },
  {
   "cell_type": "code",
   "execution_count": 84,
   "metadata": {},
   "outputs": [
    {
     "name": "stdout",
     "output_type": "stream",
     "text": [
      "21.5 ns ± 0.51 ns per loop (mean ± std. dev. of 7 runs, 10000000 loops each)\n"
     ]
    }
   ],
   "source": [
    "# method 2\n",
    "%timeit elements = 64\n",
    "indices_of_squares = np.arange(elements).astype(np.uint64)\n",
    "board_ndarray = 2**indices_of_squares\n",
    "board_array = board_ndarray.reshape(8,8)"
   ]
  },
  {
   "cell_type": "code",
   "execution_count": 89,
   "metadata": {},
   "outputs": [
    {
     "name": "stdout",
     "output_type": "stream",
     "text": [
      "21.6 ns ± 0.26 ns per loop (mean ± std. dev. of 7 runs, 10000000 loops each)\n"
     ]
    }
   ],
   "source": [
    "#method 3\n",
    "%timeit elements = 64\n",
    "board_ndarray = np.array([1], dtype=np.uint64)\n",
    "for _ in range(elements - 1):\n",
    "    board_ndarray = np.append(board_ndarray, 2*board_ndarray[-1])\n",
    "board_array = board_ndarray.reshape(8,8)"
   ]
  }
 ],
 "metadata": {
  "kernelspec": {
   "display_name": "Python 3",
   "language": "python",
   "name": "python3"
  },
  "language_info": {
   "codemirror_mode": {
    "name": "ipython",
    "version": 3
   },
   "file_extension": ".py",
   "mimetype": "text/x-python",
   "name": "python",
   "nbconvert_exporter": "python",
   "pygments_lexer": "ipython3",
   "version": "3.6.1"
  }
 },
 "nbformat": 4,
 "nbformat_minor": 2
}
