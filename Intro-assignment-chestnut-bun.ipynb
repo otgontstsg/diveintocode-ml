{
 "cells": [
  {
   "cell_type": "code",
   "execution_count": 4,
   "metadata": {
    "collapsed": true
   },
   "outputs": [],
   "source": [
    "import math\n",
    "import numpy as np"
   ]
  },
  {
   "cell_type": "markdown",
   "metadata": {},
   "source": [
    "# Problem \n",
    "Chestnut bun problem"
   ]
  },
  {
   "cell_type": "code",
   "execution_count": 25,
   "metadata": {},
   "outputs": [
    {
     "name": "stdout",
     "output_type": "stream",
     "text": [
      "Volume of the solar system: 8.602895434688242e+38\n",
      "Number of buns to fill: 7.169079528906868e+42\n",
      "How many minutes will take to cover the solar system?: 710 minutes\n",
      "How many hours will take to cover the solar system?: 11.8 hours\n"
     ]
    }
   ],
   "source": [
    "#### let's assume that chestnut bun is size of 6cmx5cmx4cm=0.06m x 0.05m x 0.04m = 0.00012m^3\n",
    "bun_size = 0.00012 # in meter^3\n",
    "#### let's calculate our solar system's volume: \n",
    "#### distance from sun to Pluto (fartest object from sun, excluding Eris): \n",
    "#### 39.5 AU = 5,900,000,000 km = 5,900,000,000,000 m (NASA information)\n",
    "#### let's assume solar system is spheric\n",
    "#### didn't take into the account of solar system planets' volumes\n",
    "#### volume of the solar system:\n",
    "radius_solar = 5900000000000 # in meters\n",
    "volume_solar = 4/3*math.pi * radius_solar**3\n",
    "print(\"Volume of the solar system:\",volume_solar)\n",
    "number_of_buns = volume_solar/bun_size\n",
    "print(\"Number of buns to fill:\",number_of_buns)\n",
    "#### sum of geometric sequence: sum upto n-th power = (2**(n+1))-1, so\n",
    "double_times = math.floor(np.log2(number_of_buns))\n",
    "min_to_fill_solar = double_times * 5\n",
    "print(\"How many minutes will take to cover the solar system?:\",min_to_fill_solar,\"minutes\")\n",
    "print(\"How many hours will take to cover the solar system?: {:.1f}\".format(min_to_fill_solar/60),\"hours\")"
   ]
  },
  {
   "cell_type": "markdown",
   "metadata": {},
   "source": [
    "Generic program"
   ]
  },
  {
   "cell_type": "code",
   "execution_count": 26,
   "metadata": {},
   "outputs": [
    {
     "name": "stdout",
     "output_type": "stream",
     "text": [
      "How many minutes will take to cover the solar system?: 710 minutes\n"
     ]
    }
   ],
   "source": [
    "def compute_time_to_fill(size,volume):\n",
    "    number_of_items = volume/size\n",
    "    double_times = math.floor(np.log2(number_of_items))\n",
    "    min_to_fill_solar = double_times * 5\n",
    "    return min_to_fill_solar\n",
    "print(\"How many minutes will take to cover the solar system?:\",compute_time_to_fill(bun_size,volume_solar),\"minutes\")"
   ]
  }
 ],
 "metadata": {
  "kernelspec": {
   "display_name": "Python 3",
   "language": "python",
   "name": "python3"
  },
  "language_info": {
   "codemirror_mode": {
    "name": "ipython",
    "version": 3
   },
   "file_extension": ".py",
   "mimetype": "text/x-python",
   "name": "python",
   "nbconvert_exporter": "python",
   "pygments_lexer": "ipython3",
   "version": "3.6.1"
  }
 },
 "nbformat": 4,
 "nbformat_minor": 2
}
