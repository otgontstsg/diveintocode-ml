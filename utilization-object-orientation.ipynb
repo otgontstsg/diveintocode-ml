{
 "cells": [
  {
   "cell_type": "markdown",
   "metadata": {},
   "source": [
    "# Problem 1\n",
    "Enumeration of classes used so far <br/>\n",
    "Now, you know that you must instantiate a class when you use it, and you know how to name a class. Based on this information, please answer what classes you have seen in the code you have used in previous assignments."
   ]
  },
  {
   "cell_type": "markdown",
   "metadata": {},
   "source": [
    "<b>Classes Series and DataFrame from pandas library</b> <br/>\n",
    "pd.Series() <br/>\n",
    "pd.DataFrame() <br/>\n",
    "<b>Classes StandardScaler and LogisticRegression from scikit-learn library </b> <br/>\n",
    "from sklearn.preprocessing import StandardScaler <br/>\n",
    "from sklearn.linear_model import LogisticRegression <br/>\n",
    "<b>Class LstedColormap from matlabplot library</b> <br/>\n",
    "from matplotlib.colors import ListedColormap <br/>"
   ]
  },
  {
   "cell_type": "markdown",
   "metadata": {},
   "source": [
    "# Problem 2\n",
    "Enumeration of methods and instance variables used so far"
   ]
  },
  {
   "cell_type": "markdown",
   "metadata": {},
   "source": [
    "From the last assignment, used <b> methods </b> <br/> \n",
    "fit() <br/>\n",
    "transform() <br/>\n",
    "predict() from classes ScandardScaler and LinearRegression class <br/>\n",
    "Also there is methods like <br/>\n",
    "array.sum() <br/> \n",
    "array.reshape() <br/>\n",
    "df.info() or list.append(). <br/>\n",
    "<b>Instance variables are: </b> <br/>\n",
    "scaler.mean_ <br/>\n",
    "array.shape <br/>\n",
    "df.columns <br/>\n",
    "also LinearRegression class has instance variables like, <br/>\n",
    "reg.coef_ <br/>\n",
    "reg.intercept.  "
   ]
  },
  {
   "cell_type": "markdown",
   "metadata": {},
   "source": [
    "# Problem 3\n",
    "Creating a standardized class by scratch"
   ]
  },
  {
   "cell_type": "code",
   "execution_count": 16,
   "metadata": {
    "collapsed": true
   },
   "outputs": [],
   "source": [
    "class ScratchStandardScaler():\n",
    "    def __init__(self, copy=True, with_mean=True, with_std=True):\n",
    "        self.with_mean = with_mean\n",
    "        self.with_std = with_std\n",
    "        self.copy = copy\n",
    "        \n",
    "    def fit(self, X):\n",
    "        self.mean_ = np.mean(X,axis=0)\n",
    "        self.var_ = np.var(X,axis=0)\n",
    "        return self\n",
    "    \n",
    "    def transform(self, X):\n",
    "        X_scaled = (X-self.mean_)/np.std(X,axis=0)\n",
    "        return X_scaled"
   ]
  },
  {
   "cell_type": "code",
   "execution_count": 19,
   "metadata": {},
   "outputs": [
    {
     "name": "stdout",
     "output_type": "stream",
     "text": [
      "平均 : [ 4.86  3.31  1.45  0.22]\n",
      "分散 : [ 0.0764  0.0849  0.0105  0.0056]\n",
      "[[ 0.86828953  0.65207831 -0.48795004 -0.26726124]\n",
      " [ 0.14471492 -1.06391725 -0.48795004 -0.26726124]\n",
      " [-0.57885968 -0.37751902 -1.46385011 -0.26726124]\n",
      " [-0.94064699 -0.72071813  0.48795004 -0.26726124]\n",
      " [ 0.50650222  0.99527742 -0.48795004 -0.26726124]\n",
      " [ 1.95365143  2.02487476  2.43975018  2.40535118]\n",
      " [-0.94064699  0.3088792  -0.48795004  1.06904497]\n",
      " [ 0.50650222  0.3088792   0.48795004 -0.26726124]\n",
      " [-1.66422159 -1.40711636 -0.48795004 -0.26726124]\n",
      " [ 0.14471492 -0.72071813  0.48795004 -1.60356745]]\n"
     ]
    }
   ],
   "source": [
    "\"\"\" shows the result of the code using the class written above\"\"\"\n",
    "import numpy as np\n",
    "from sklearn.datasets import load_iris\n",
    "data = load_iris()\n",
    "X = data.data[:10]\n",
    "scratch_scaler = ScratchStandardScaler()\n",
    "scratch_scaler.fit(X)\n",
    "print(\"平均 : {}\".format(scratch_scaler.mean_))\n",
    "print(\"分散 : {}\".format(scratch_scaler.var_))\n",
    "X_std = scratch_scaler.transform(X)\n",
    "print(X_std)"
   ]
  },
  {
   "cell_type": "code",
   "execution_count": 20,
   "metadata": {},
   "outputs": [
    {
     "name": "stdout",
     "output_type": "stream",
     "text": [
      "平均 : [ 4.86  3.31  1.45  0.22]\n",
      "分散 : [ 0.0764  0.0849  0.0105  0.0056]\n"
     ]
    },
    {
     "data": {
      "text/plain": [
       "array([[ 0.86828953,  0.65207831, -0.48795004, -0.26726124],\n",
       "       [ 0.14471492, -1.06391725, -0.48795004, -0.26726124],\n",
       "       [-0.57885968, -0.37751902, -1.46385011, -0.26726124],\n",
       "       [-0.94064699, -0.72071813,  0.48795004, -0.26726124],\n",
       "       [ 0.50650222,  0.99527742, -0.48795004, -0.26726124],\n",
       "       [ 1.95365143,  2.02487476,  2.43975018,  2.40535118],\n",
       "       [-0.94064699,  0.3088792 , -0.48795004,  1.06904497],\n",
       "       [ 0.50650222,  0.3088792 ,  0.48795004, -0.26726124],\n",
       "       [-1.66422159, -1.40711636, -0.48795004, -0.26726124],\n",
       "       [ 0.14471492, -0.72071813,  0.48795004, -1.60356745]])"
      ]
     },
     "execution_count": 20,
     "metadata": {},
     "output_type": "execute_result"
    }
   ],
   "source": [
    "\"\"\" shows the result of the code using StandardScaler class from scikit-learn\"\"\"\n",
    "import numpy as np\n",
    "from sklearn.preprocessing import StandardScaler\n",
    "from sklearn.datasets import load_iris\n",
    "data = load_iris()\n",
    "X = data.data[:10]\n",
    "scaler = StandardScaler()\n",
    "scaler.fit(X)\n",
    "print(\"平均 :\", scaler.mean_)\n",
    "print(\"分散 :\", scaler.var_)\n",
    "X_std = scaler.transform(X)\n",
    "X_std"
   ]
  },
  {
   "cell_type": "markdown",
   "metadata": {},
   "source": [
    "# Problem 4\n",
    "Creating a class that performs 4 arithmetic operations"
   ]
  },
  {
   "cell_type": "code",
   "execution_count": 35,
   "metadata": {},
   "outputs": [
    {
     "name": "stdout",
     "output_type": "stream",
     "text": [
      "Inital value has been set\n",
      "value : 5\n",
      "After adding 3 : 8\n",
      "After subtracting 4 : 4\n",
      "After multiplying by 5 : 20\n",
      "After division of 10 : 2.0\n"
     ]
    }
   ],
   "source": [
    "\"\"\" subtraction, multiplication, and division \n",
    "non-numeric value such as a string or an array, an error should be raised \"\"\"\n",
    "\n",
    "class ArithmeticOperation():\n",
    "    def __init__(self, value):\n",
    "        if isinstance(value, int) or isinstance(value, float):\n",
    "            self.value = value\n",
    "            print(\"Inital value has been set\".format(self.value))\n",
    "        else:\n",
    "            raise ValueError(\"Value is not int or float\")\n",
    "    def add(self, value2):\n",
    "        if isinstance(value2, int) or isinstance(value2, float):\n",
    "            self.value += value2\n",
    "        else:\n",
    "            raise ValueError(\"Value is not int or float\")\n",
    "    # substraction\n",
    "    def sub(self,value2):   \n",
    "        if isinstance(value2, int) or isinstance(value2, float):\n",
    "            self.value -= value2\n",
    "        else:\n",
    "            raise ValueError(\"Value is not int or float\")\n",
    "    # multiplication\n",
    "    def mul(self,value2):\n",
    "        if isinstance(value2, int) or isinstance(value2, float):\n",
    "            self.value *= value2\n",
    "        else:\n",
    "            raise ValueError(\"Value is not int or float\")\n",
    "    # division\n",
    "    def div(self,value2):\n",
    "        if isinstance(value2, int) or isinstance(value2, float):\n",
    "            self.value /= value2\n",
    "        else:\n",
    "            raise ValueError(\"Value is not int or float\")\n",
    "    \"\"\"\n",
    "    Intial value set to 5 followed by operations +3, -4, *5, /10 \n",
    "    results are printed as output \n",
    "    \"\"\"\n",
    "test = ArithmeticOperation(5)\n",
    "print(\"value : {}\".format(test.value))\n",
    "test.add(3)\n",
    "print(\"After adding 3 : {}\".format(test.value))\n",
    "test.sub(4)\n",
    "print(\"After subtracting 4 : {}\".format(test.value))\n",
    "test.mul(5)\n",
    "print(\"After multiplying by 5 : {}\".format(test.value))\n",
    "test.div(10)\n",
    "print(\"After division of 10 : {}\".format(test.value))"
   ]
  },
  {
   "cell_type": "code",
   "execution_count": 36,
   "metadata": {},
   "outputs": [
    {
     "name": "stdout",
     "output_type": "stream",
     "text": [
      "After adding 5 : 7.0\n"
     ]
    },
    {
     "ename": "ValueError",
     "evalue": "Value is not int or float",
     "output_type": "error",
     "traceback": [
      "\u001b[1;31m---------------------------------------------------------------------------\u001b[0m",
      "\u001b[1;31mValueError\u001b[0m                                Traceback (most recent call last)",
      "\u001b[1;32m<ipython-input-36-970b8a0d8a17>\u001b[0m in \u001b[0;36m<module>\u001b[1;34m()\u001b[0m\n\u001b[0;32m      2\u001b[0m \u001b[0mtest\u001b[0m\u001b[1;33m.\u001b[0m\u001b[0madd\u001b[0m\u001b[1;33m(\u001b[0m\u001b[1;36m5\u001b[0m\u001b[1;33m)\u001b[0m\u001b[1;33m\u001b[0m\u001b[0m\n\u001b[0;32m      3\u001b[0m \u001b[0mprint\u001b[0m\u001b[1;33m(\u001b[0m\u001b[1;34m\"After adding 5 : {}\"\u001b[0m\u001b[1;33m.\u001b[0m\u001b[0mformat\u001b[0m\u001b[1;33m(\u001b[0m\u001b[0mtest\u001b[0m\u001b[1;33m.\u001b[0m\u001b[0mvalue\u001b[0m\u001b[1;33m)\u001b[0m\u001b[1;33m)\u001b[0m\u001b[1;33m\u001b[0m\u001b[0m\n\u001b[1;32m----> 4\u001b[1;33m \u001b[0mtest\u001b[0m\u001b[1;33m.\u001b[0m\u001b[0madd\u001b[0m\u001b[1;33m(\u001b[0m\u001b[1;34m'text'\u001b[0m\u001b[1;33m)\u001b[0m\u001b[1;33m\u001b[0m\u001b[0m\n\u001b[0m\u001b[0;32m      5\u001b[0m \u001b[0mprint\u001b[0m\u001b[1;33m(\u001b[0m\u001b[1;34m\"After adding text : {}\"\u001b[0m\u001b[1;33m.\u001b[0m\u001b[0mformat\u001b[0m\u001b[1;33m(\u001b[0m\u001b[0mtest\u001b[0m\u001b[1;33m.\u001b[0m\u001b[0mvalue\u001b[0m\u001b[1;33m)\u001b[0m\u001b[1;33m)\u001b[0m\u001b[1;33m\u001b[0m\u001b[0m\n",
      "\u001b[1;32m<ipython-input-35-0b87dd3a4e42>\u001b[0m in \u001b[0;36madd\u001b[1;34m(self, value2)\u001b[0m\n\u001b[0;32m     13\u001b[0m             \u001b[0mself\u001b[0m\u001b[1;33m.\u001b[0m\u001b[0mvalue\u001b[0m \u001b[1;33m+=\u001b[0m \u001b[0mvalue2\u001b[0m\u001b[1;33m\u001b[0m\u001b[0m\n\u001b[0;32m     14\u001b[0m         \u001b[1;32melse\u001b[0m\u001b[1;33m:\u001b[0m\u001b[1;33m\u001b[0m\u001b[0m\n\u001b[1;32m---> 15\u001b[1;33m             \u001b[1;32mraise\u001b[0m \u001b[0mValueError\u001b[0m\u001b[1;33m(\u001b[0m\u001b[1;34m\"Value is not int or float\"\u001b[0m\u001b[1;33m)\u001b[0m\u001b[1;33m\u001b[0m\u001b[0m\n\u001b[0m\u001b[0;32m     16\u001b[0m     \u001b[1;31m# substraction\u001b[0m\u001b[1;33m\u001b[0m\u001b[1;33m\u001b[0m\u001b[0m\n\u001b[0;32m     17\u001b[0m     \u001b[1;32mdef\u001b[0m \u001b[0msub\u001b[0m\u001b[1;33m(\u001b[0m\u001b[0mself\u001b[0m\u001b[1;33m,\u001b[0m\u001b[0mvalue2\u001b[0m\u001b[1;33m)\u001b[0m\u001b[1;33m:\u001b[0m\u001b[1;33m\u001b[0m\u001b[0m\n",
      "\u001b[1;31mValueError\u001b[0m: Value is not int or float"
     ]
    }
   ],
   "source": [
    "# it should raise an error if the value is not int or float\n",
    "test.add(5)\n",
    "print(\"After adding 5 : {}\".format(test.value))\n",
    "test.add('text')\n",
    "print(\"After adding text : {}\".format(test.value))"
   ]
  }
 ],
 "metadata": {
  "kernelspec": {
   "display_name": "Python 3",
   "language": "python",
   "name": "python3"
  },
  "language_info": {
   "codemirror_mode": {
    "name": "ipython",
    "version": 3
   },
   "file_extension": ".py",
   "mimetype": "text/x-python",
   "name": "python",
   "nbconvert_exporter": "python",
   "pygments_lexer": "ipython3",
   "version": "3.6.1"
  }
 },
 "nbformat": 4,
 "nbformat_minor": 2
}
