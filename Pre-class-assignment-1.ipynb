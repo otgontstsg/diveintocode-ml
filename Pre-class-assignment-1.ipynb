{
 "cells": [
  {
   "cell_type": "code",
   "execution_count": 17,
   "metadata": {
    "collapsed": true
   },
   "outputs": [],
   "source": [
    "# library\n",
    "import time\n",
    "import matplotlib.pyplot as plt"
   ]
  },
  {
   "cell_type": "markdown",
   "metadata": {},
   "source": [
    "# Problem 1\n",
    "Exponential arithmetic operator"
   ]
  },
  {
   "cell_type": "code",
   "execution_count": 4,
   "metadata": {},
   "outputs": [
    {
     "name": "stdout",
     "output_type": "stream",
     "text": [
      "Thickness of the paper folded 43 times: 703687441.77664 meters\n"
     ]
    }
   ],
   "source": [
    "THICKNESS = 0.00008\n",
    "folded_thickness = THICKNESS*2**43\n",
    "print(\"Thickness of the paper folded 43 times: {} meters\".format(folded_thickness))"
   ]
  },
  {
   "cell_type": "markdown",
   "metadata": {},
   "source": [
    "# Problem 2 \n",
    "Unit conversion"
   ]
  },
  {
   "cell_type": "code",
   "execution_count": 5,
   "metadata": {},
   "outputs": [
    {
     "name": "stdout",
     "output_type": "stream",
     "text": [
      "Thickness of the paper folded 43 times:  70368.74 ten kilometers\n"
     ]
    }
   ],
   "source": [
    "# convert the unit to 10,000km with two decimal points\n",
    "print(\"Thickness of the paper folded 43 times: {: .2f} ten kilometers\".format(folded_thickness/10000))"
   ]
  },
  {
   "cell_type": "markdown",
   "metadata": {},
   "source": [
    "# Problem 3\n",
    "For statement"
   ]
  },
  {
   "cell_type": "code",
   "execution_count": 6,
   "metadata": {},
   "outputs": [
    {
     "name": "stdout",
     "output_type": "stream",
     "text": [
      "Thickness of the paper folded 43 times: 703687441.77664 meters\n"
     ]
    }
   ],
   "source": [
    "fold = 43\n",
    "folded_thickness_for = THICKNESS\n",
    "for i in range(43):\n",
    "    folded_thickness_for = folded_thickness_for * 2\n",
    "print(\"Thickness of the paper folded 43 times: {} meters\".format(folded_thickness_for))"
   ]
  },
  {
   "cell_type": "markdown",
   "metadata": {},
   "source": [
    "# Problem 4\n",
    "Calculation time"
   ]
  },
  {
   "cell_type": "code",
   "execution_count": 7,
   "metadata": {},
   "outputs": [
    {
     "name": "stdout",
     "output_type": "stream",
     "text": [
      "139 ns ± 5.23 ns per loop (mean ± std. dev. of 7 runs, 10000000 loops each)\n"
     ]
    }
   ],
   "source": [
    "%timeit folded_thickness = THICKNESS*2**43"
   ]
  },
  {
   "cell_type": "code",
   "execution_count": 8,
   "metadata": {},
   "outputs": [
    {
     "name": "stdout",
     "output_type": "stream",
     "text": [
      "10.4 µs ± 116 ns per loop (mean ± std. dev. of 7 runs, 100000 loops each)\n"
     ]
    }
   ],
   "source": [
    "%%timeit folded_thickness_for = THICKNESS\n",
    "for i in range(43): \n",
    "    folded_thickness_for = folded_thickness_for * 2"
   ]
  },
  {
   "cell_type": "markdown",
   "metadata": {},
   "source": [
    "<b>Conslusion</b>\n",
    "Calculation time of the two cases are as follows: <br>\n",
    "Exponentiation operator: 139ns <br>\n",
    "For statement: 10.4us <br>\n",
    "Using Exponentiation operator method is 75.8 times faster than For statement one. \n"
   ]
  },
  {
   "cell_type": "markdown",
   "metadata": {},
   "source": [
    "# Problem 5\n",
    "Saving to a list"
   ]
  },
  {
   "cell_type": "code",
   "execution_count": 16,
   "metadata": {},
   "outputs": [
    {
     "name": "stdout",
     "output_type": "stream",
     "text": [
      "List of thickness per fold: [8e-05, 0.00016, 0.00032, 0.00064, 0.00128, 0.00256, 0.00512, 0.01024, 0.02048, 0.04096, 0.08192, 0.16384, 0.32768, 0.65536, 1.31072, 2.62144, 5.24288, 10.48576, 20.97152, 41.94304, 83.88608, 167.77216, 335.54432, 671.08864, 1342.17728, 2684.35456, 5368.70912, 10737.41824, 21474.83648, 42949.67296, 85899.34592, 171798.69184, 343597.38368, 687194.76736, 1374389.53472, 2748779.06944, 5497558.13888, 10995116.27776, 21990232.55552, 43980465.11104, 87960930.22208, 175921860.44416, 351843720.88832, 703687441.77664]\n",
      "Number of values in the list: 44\n"
     ]
    }
   ],
   "source": [
    "thickness_per_fold = []\n",
    "folded_thickness = THICKNESS\n",
    "thickness_per_fold.append(folded_thickness)\n",
    "for i in range(43):\n",
    "    folded_thickness = folded_thickness * 2\n",
    "    thickness_per_fold.append (folded_thickness)\n",
    "print(\"List of thickness per fold:\",thickness_per_fold)\n",
    "print(\"Number of values in the list:\",len(thickness_per_fold))"
   ]
  },
  {
   "cell_type": "markdown",
   "metadata": {},
   "source": [
    "# Problem 6\n",
    "Display"
   ]
  },
  {
   "cell_type": "code",
   "execution_count": 18,
   "metadata": {},
   "outputs": [
    {
     "data": {
      "image/png": "[encoded data removed]",
      "text/plain": [
       "<matplotlib.figure.Figure at 0x5bc60b0>"
      ]
     },
     "metadata": {},
     "output_type": "display_data"
    }
   ],
   "source": [
    "%matplotlib inline\n",
    "plt.title(\"Thickness of folded paper\")\n",
    "plt.xlabel(\"Number of folds\")\n",
    "plt.ylabel(\"Thickness, m\")\n",
    "plt.plot(thickness_per_fold) \n",
    "plt.show()"
   ]
  },
  {
   "cell_type": "markdown",
   "metadata": {},
   "source": [
    "# Problem 7\n",
    "Customized graphs"
   ]
  },
  {
   "cell_type": "code",
   "execution_count": 23,
   "metadata": {},
   "outputs": [
    {
     "data": {
      "image/png": "[encoded data removed]",
      "text/plain": [
       "<matplotlib.figure.Figure at 0x5ac6630>"
      ]
     },
     "metadata": {},
     "output_type": "display_data"
    }
   ],
   "source": [
    "plt.title(\"Thickness of folded paper\",fontsize=15,color=\"blue\")\n",
    "plt.xlabel(\"Number of folds\")\n",
    "plt.ylabel(\"Thickness, m\")\n",
    "plt.plot(thickness_per_fold,color=\"#00FFc4\") \n",
    "plt.show()"
   ]
  },
  {
   "cell_type": "code",
   "execution_count": 34,
   "metadata": {},
   "outputs": [
    {
     "data": {
      "image/png": "[encoded data removed]",
      "text/plain": [
       "<matplotlib.figure.Figure at 0x81d1df0>"
      ]
     },
     "metadata": {},
     "output_type": "display_data"
    }
   ],
   "source": [
    "plt.title(\"Thickness of folded paper\",fontsize=13)\n",
    "plt.xlabel(\"Number of folds\",fontsize=12)\n",
    "plt.ylabel(\"Thickness, m\",fontsize=12)\n",
    "plt.plot(thickness_per_fold,color=\"red\",label=\"thickness\") \n",
    "plt.legend(loc=\"upper left\")\n",
    "plt.grid()\n",
    "plt.show()"
   ]
  },
  {
   "cell_type": "code",
   "execution_count": 41,
   "metadata": {},
   "outputs": [
    {
     "data": {
      "image/png": "[encoded data removed]",
      "text/plain": [
       "<matplotlib.figure.Figure at 0x823e090>"
      ]
     },
     "metadata": {},
     "output_type": "display_data"
    }
   ],
   "source": [
    "plt.title(\"Thickness of folded paper\",fontsize=14,color=\"green\")\n",
    "plt.xlabel(\"Number of folds\",fontsize=13,color=\"red\")\n",
    "plt.ylabel(\"Thickness, m\",fontsize=13)\n",
    "plt.tick_params(labelsize=12,colors=\"b\") \n",
    "plt.plot(thickness_per_fold,color=\"#AA5099\")\n",
    "plt.show()"
   ]
  }
 ],
 "metadata": {
  "kernelspec": {
   "display_name": "Python 3",
   "language": "python",
   "name": "python3"
  }
 },
 "nbformat": 4,
 "nbformat_minor": 2
}
