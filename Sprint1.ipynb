{
  "nbformat": 4,
  "nbformat_minor": 0,
  "metadata": {
    "colab": {
      "name": "Sprint1.ipynb",
      "provenance": [],
      "collapsed_sections": [],
      "authorship_tag": "ABX9TyMA7/FXz4RRmwKBt6cbSc6M"
    },
    "kernelspec": {
      "name": "python3",
      "display_name": "Python 3"
    },
    "language_info": {
      "name": "python"
    }
  },
  "cells": [
    {
      "cell_type": "markdown",
      "metadata": {
        "id": "vTUFk0WLAJdw"
      },
      "source": [
        "#Pre-learning assignment"
      ]
    },
    {
      "cell_type": "code",
      "metadata": {
        "colab": {
          "base_uri": "https://localhost:8080/"
        },
        "id": "cVFPfS-BAWYQ",
        "outputId": "68ae09cc-5b0e-4a13-ae41-7b16e961b854"
      },
      "source": [
        "import numpy as np\n",
        "import pandas as pd\n",
        "from google.colab import drive\n",
        "drive.mount('/content/drive')"
      ],
      "execution_count": 1,
      "outputs": [
        {
          "output_type": "stream",
          "text": [
            "Mounted at /content/drive\n"
          ],
          "name": "stdout"
        }
      ]
    },
    {
      "cell_type": "code",
      "metadata": {
        "colab": {
          "base_uri": "https://localhost:8080/"
        },
        "id": "91TSGKBcB9kO",
        "outputId": "70302d22-2731-46eb-ac3a-db772f818cbc"
      },
      "source": [
        "app_train = pd.read_csv('/content/drive/MyDrive/application_train.csv')\n",
        "app_test = pd.read_csv('/content/drive/MyDrive/application_test.csv')\n",
        "print(app_train.shape)\n",
        "print(app_test.shape)\n",
        "missing = app_train.isnull().sum()\n",
        "train = app_train.loc[:,missing.index[missing<10000]]\n",
        "test = app_test.loc[:,(missing.index[missing<10000]).drop('TARGET')]\n",
        "print(train.shape)\n",
        "print(test.shape)\n",
        "test_id=test['SK_ID_CURR']"
      ],
      "execution_count": 2,
      "outputs": [
        {
          "output_type": "stream",
          "text": [
            "(307511, 122)\n",
            "(48744, 121)\n",
            "(307511, 65)\n",
            "(48744, 64)\n"
          ],
          "name": "stdout"
        }
      ]
    },
    {
      "cell_type": "code",
      "metadata": {
        "colab": {
          "base_uri": "https://localhost:8080/"
        },
        "id": "dTvTTL-cC164",
        "outputId": "924ac173-dba0-44bd-d49c-636e4ad86c6e"
      },
      "source": [
        "y_train = train.TARGET\n",
        "x_train = train.drop(['TARGET'],axis=1)\n",
        "print(y_train.shape)\n",
        "print(x_train.shape)\n",
        "fdata = pd.concat([x_train,test])\n",
        "wdata = pd.concat([x_train,test])\n",
        "wdata.shape"
      ],
      "execution_count": 3,
      "outputs": [
        {
          "output_type": "stream",
          "text": [
            "(307511,)\n",
            "(307511, 64)\n"
          ],
          "name": "stdout"
        },
        {
          "output_type": "execute_result",
          "data": {
            "text/plain": [
              "(356255, 64)"
            ]
          },
          "metadata": {
            "tags": []
          },
          "execution_count": 3
        }
      ]
    },
    {
      "cell_type": "code",
      "metadata": {
        "colab": {
          "base_uri": "https://localhost:8080/"
        },
        "id": "0oynbyEjDW8T",
        "outputId": "ad236389-2732-4a70-fae9-871db108006d"
      },
      "source": [
        "col_obj = wdata.columns[wdata.dtypes == 'object']\n",
        "for i in col_obj:\n",
        "    wdata.loc[:,i],_ = pd.factorize(wdata.loc[:,i])\n",
        "data = wdata.fillna(0)\n",
        "data = data.drop(['SK_ID_CURR'],axis=1)\n",
        "xtrain = data.iloc[0:len(x_train),:]\n",
        "xtest = data.iloc[len(x_train):len(data),:] \n",
        "print(xtrain.shape)\n",
        "print(xtest.shape)"
      ],
      "execution_count": 4,
      "outputs": [
        {
          "output_type": "stream",
          "text": [
            "(307511, 63)\n",
            "(48744, 63)\n"
          ],
          "name": "stdout"
        }
      ]
    },
    {
      "cell_type": "code",
      "metadata": {
        "id": "_YFlZRyCDmJF"
      },
      "source": [
        "from sklearn import preprocessing\n",
        "scaler = preprocessing.StandardScaler().fit(xtrain)\n",
        "x_scaled = scaler.transform(xtrain)\n",
        "x_scaled = pd.DataFrame(x_scaled)"
      ],
      "execution_count": 5,
      "outputs": []
    },
    {
      "cell_type": "code",
      "metadata": {
        "colab": {
          "base_uri": "https://localhost:8080/"
        },
        "id": "W18AmavLDq0O",
        "outputId": "5d1353b6-9542-4b0e-8e50-03ccf7cdcabc"
      },
      "source": [
        "from sklearn.model_selection import train_test_split\n",
        "X_train, X_val, Y_train, Y_val = train_test_split(x_scaled, y_train, test_size=0.2, random_state=18)\n",
        "from sklearn.linear_model import LogisticRegression\n",
        "lreg = LogisticRegression(max_iter=1000).fit(X_train, Y_train)\n",
        "y_pred = lreg.predict_proba(X_val)\n",
        "from sklearn.metrics import roc_auc_score\n",
        "print(\"Validation ROC AUC:\",roc_auc_score(Y_val, y_pred[:,1]))"
      ],
      "execution_count": 6,
      "outputs": [
        {
          "output_type": "stream",
          "text": [
            "Validation ROC AUC: 0.700318584229964\n"
          ],
          "name": "stdout"
        }
      ]
    },
    {
      "cell_type": "markdown",
      "metadata": {
        "id": "KuGTztkREiwC"
      },
      "source": [
        "#Problem 1 \n",
        "Cross validation"
      ]
    },
    {
      "cell_type": "code",
      "metadata": {
        "id": "sYJZ7DRNEeEY"
      },
      "source": [
        "from sklearn.model_selection import KFold\n",
        "kf = KFold(n_splits=5)\n",
        "kf.get_n_splits(x_scaled)\n",
        "roc_kfold=[]\n",
        "for train_index, test_index in kf.split(x_scaled):\n",
        "  x,x_test = x_scaled.loc[train_index,:],x_scaled.loc[test_index,:]\n",
        "  y,y_test = y_train[train_index],y_train[test_index]\n",
        "  lreg = LogisticRegression(max_iter=1000).fit(x, y)\n",
        "  y_pred = lreg.predict_proba(x_test)\n",
        "  roc_kfold.append(roc_auc_score(y_test, y_pred[:,1]))"
      ],
      "execution_count": 7,
      "outputs": []
    },
    {
      "cell_type": "code",
      "metadata": {
        "colab": {
          "base_uri": "https://localhost:8080/"
        },
        "id": "9aM3NY-BUnv2",
        "outputId": "502c3809-0287-4f93-da9b-55b072ddc7bd"
      },
      "source": [
        "roc_kfold"
      ],
      "execution_count": 8,
      "outputs": [
        {
          "output_type": "execute_result",
          "data": {
            "text/plain": [
              "[0.7023513387297634,\n",
              " 0.70435465386954,\n",
              " 0.7026891080689418,\n",
              " 0.7012215060652581,\n",
              " 0.705965358050384]"
            ]
          },
          "metadata": {
            "tags": []
          },
          "execution_count": 8
        }
      ]
    },
    {
      "cell_type": "code",
      "metadata": {
        "colab": {
          "base_uri": "https://localhost:8080/"
        },
        "id": "OftRAuPVZDGA",
        "outputId": "bfde70bf-5156-4a57-e890-3643ddae62cd"
      },
      "source": [
        "from statistics import mean\n",
        "mean(roc_kfold)"
      ],
      "execution_count": 9,
      "outputs": [
        {
          "output_type": "execute_result",
          "data": {
            "text/plain": [
              "0.7033163929567775"
            ]
          },
          "metadata": {
            "tags": []
          },
          "execution_count": 9
        }
      ]
    },
    {
      "cell_type": "markdown",
      "metadata": {
        "id": "_FJzoJBgaGG9"
      },
      "source": [
        "#Problem 2\n",
        "Grid search\n"
      ]
    },
    {
      "cell_type": "code",
      "metadata": {
        "id": "V-Abaz5RRWQ7"
      },
      "source": [
        "from sklearn.model_selection import GridSearchCV \n",
        "param = {'penalty':('l2','none'),'solver':('newton-cg', 'lbfgs')}\n",
        "lreg = LogisticRegression(max_iter=1000) \n",
        "# with cv parameter to default means 5-fold cross validation\n",
        "clf = GridSearchCV(lreg, param)"
      ],
      "execution_count": 26,
      "outputs": []
    },
    {
      "cell_type": "code",
      "metadata": {
        "colab": {
          "base_uri": "https://localhost:8080/"
        },
        "id": "qUz6p9TypkHn",
        "outputId": "1d97179b-cff2-411e-d7d3-6377eb5578a5"
      },
      "source": [
        "clf.fit(x_scaled,y_train)\n",
        "clf.cv_results_"
      ],
      "execution_count": 27,
      "outputs": [
        {
          "output_type": "execute_result",
          "data": {
            "text/plain": [
              "{'mean_fit_time': array([29.57994628, 12.59579463, 38.06015458, 11.1342371 ]),\n",
              " 'mean_score_time': array([0.02045107, 0.02023072, 0.0196332 , 0.01997566]),\n",
              " 'mean_test_score': array([0.91924191, 0.91923541, 0.91924517, 0.91924517]),\n",
              " 'param_penalty': masked_array(data=['l2', 'l2', 'none', 'none'],\n",
              "              mask=[False, False, False, False],\n",
              "        fill_value='?',\n",
              "             dtype=object),\n",
              " 'param_solver': masked_array(data=['newton-cg', 'lbfgs', 'newton-cg', 'lbfgs'],\n",
              "              mask=[False, False, False, False],\n",
              "        fill_value='?',\n",
              "             dtype=object),\n",
              " 'params': [{'penalty': 'l2', 'solver': 'newton-cg'},\n",
              "  {'penalty': 'l2', 'solver': 'lbfgs'},\n",
              "  {'penalty': 'none', 'solver': 'newton-cg'},\n",
              "  {'penalty': 'none', 'solver': 'lbfgs'}],\n",
              " 'rank_test_score': array([3, 4, 1, 1], dtype=int32),\n",
              " 'split0_test_score': array([0.91923971, 0.91922345, 0.91922345, 0.91922345]),\n",
              " 'split1_test_score': array([0.91918962, 0.91918962, 0.91920588, 0.91920588]),\n",
              " 'split2_test_score': array([0.9192384, 0.9192384, 0.9192384, 0.9192384]),\n",
              " 'split3_test_score': array([0.91933596, 0.91933596, 0.91933596, 0.91933596]),\n",
              " 'split4_test_score': array([0.91920588, 0.91918962, 0.91922214, 0.91922214]),\n",
              " 'std_fit_time': array([2.60038265, 2.4587975 , 4.18459885, 1.83014672]),\n",
              " 'std_score_time': array([0.00167986, 0.00141026, 0.00223618, 0.00214136]),\n",
              " 'std_test_score': array([5.07826207e-05, 5.37680191e-05, 4.65486059e-05, 4.65486059e-05])}"
            ]
          },
          "metadata": {
            "tags": []
          },
          "execution_count": 27
        }
      ]
    },
    {
      "cell_type": "markdown",
      "metadata": {
        "id": "LZZ3tAjFzY-g"
      },
      "source": [
        "# Problem 3\n",
        "Survey from Kaggle Notebooks"
      ]
    },
    {
      "cell_type": "markdown",
      "metadata": {
        "id": "2-agxD6yzdU1"
      },
      "source": [
        "# problem 4\n",
        "Creating a model with high generalization performance"
      ]
    },
    {
      "cell_type": "code",
      "metadata": {
        "colab": {
          "base_uri": "https://localhost:8080/"
        },
        "id": "rr4Rtvk9zQIn",
        "outputId": "62c67c23-be04-4e02-950b-ad8e5400dfbc"
      },
      "source": [
        "# use of LightGBM\n",
        "import lightgbm as lgb\n",
        "lgb_train = lgb.Dataset(data=X_train, label=Y_train)\n",
        "lgb_eval = lgb.Dataset(data=X_val, label=Y_val)\n",
        "params = {'task': 'train', 'boosting_type': 'gbdt', 'objective': 'binary', 'metric': 'auc', \n",
        "          'learning_rate': 0.01, 'num_leaves': 48, 'num_iteration': 5000, 'verbose': 0 ,\n",
        "          'colsample_bytree':.8, 'subsample':.9, 'max_depth':7, 'reg_alpha':.1, 'reg_lambda':.1, \n",
        "          'min_split_gain':.01, 'min_child_weight':1}\n",
        "model = lgb.train(params, lgb_train, valid_sets=lgb_eval, early_stopping_rounds=150, verbose_eval=200)"
      ],
      "execution_count": 28,
      "outputs": [
        {
          "output_type": "stream",
          "text": [
            "/usr/local/lib/python3.7/dist-packages/lightgbm/engine.py:118: UserWarning: Found `num_iteration` in params. Will use it instead of argument\n",
            "  warnings.warn(\"Found `{}` in params. Will use it instead of argument\".format(alias))\n"
          ],
          "name": "stderr"
        },
        {
          "output_type": "stream",
          "text": [
            "Training until validation scores don't improve for 150 rounds.\n",
            "[200]\tvalid_0's auc: 0.707307\n",
            "[400]\tvalid_0's auc: 0.714927\n",
            "[600]\tvalid_0's auc: 0.718358\n",
            "[800]\tvalid_0's auc: 0.720562\n",
            "[1000]\tvalid_0's auc: 0.721764\n",
            "[1200]\tvalid_0's auc: 0.722494\n",
            "[1400]\tvalid_0's auc: 0.72297\n",
            "[1600]\tvalid_0's auc: 0.723322\n",
            "[1800]\tvalid_0's auc: 0.723511\n",
            "[2000]\tvalid_0's auc: 0.723586\n",
            "Early stopping, best iteration is:\n",
            "[1862]\tvalid_0's auc: 0.723636\n"
          ],
          "name": "stdout"
        }
      ]
    },
    {
      "cell_type": "code",
      "metadata": {
        "colab": {
          "base_uri": "https://localhost:8080/"
        },
        "id": "pQf5nI4F6uxb",
        "outputId": "d92f88f3-6803-44f0-e825-923b07bdd789"
      },
      "source": [
        "# LightGBM with given parameters with 5-fold\n",
        "kf = KFold(n_splits=5)\n",
        "kf.get_n_splits(x_scaled)\n",
        "roc_kfold=[]\n",
        "for train_index, test_index in kf.split(x_scaled):\n",
        "  x,x_test = x_scaled.loc[train_index,:],x_scaled.loc[test_index,:]\n",
        "  y,y_test = y_train[train_index],y_train[test_index]\n",
        "  lgb_train = lgb.Dataset(data=x, label=y)\n",
        "  lgb_eval = lgb.Dataset(data=x_test, label=y_test)\n",
        "  params = {\n",
        "            'objective': 'binary',\n",
        "            'boosting_type': 'gbdt',\n",
        "            'nthread': 4,\n",
        "            'learning_rate': 0.02, \n",
        "            'num_leaves': 20,\n",
        "            'colsample_bytree': 0.9497036,\n",
        "            'subsample': 0.8715623,\n",
        "            'subsample_freq': 1,\n",
        "            'max_depth': 8,\n",
        "            'reg_alpha': 0.041545473,\n",
        "            'reg_lambda': 0.0735294,\n",
        "            'min_split_gain': 0.0222415,\n",
        "            'min_child_weight': 60, # 39.3259775,\n",
        "            'seed': 0,\n",
        "            'verbose': -1,\n",
        "            'metric': 'auc',\n",
        "        }\n",
        "  model = lgb.train(params=params,train_set=lgb_train, valid_sets=lgb_eval, early_stopping_rounds=200,num_boost_round=10000, verbose_eval=False)\n",
        "  y_pred = model.predict(x_test)\n",
        "  print('AUC:', roc_auc_score(y_test, y_pred))"
      ],
      "execution_count": 34,
      "outputs": [
        {
          "output_type": "stream",
          "text": [
            "AUC: 0.7260836343837338\n",
            "AUC: 0.7280164039692631\n",
            "AUC: 0.7236870807948773\n",
            "AUC: 0.7229348287494292\n",
            "AUC: 0.7274011111262515\n"
          ],
          "name": "stdout"
        }
      ]
    },
    {
      "cell_type": "markdown",
      "metadata": {
        "id": "sNi6wVwSK66x"
      },
      "source": [
        "#Problem 5\n",
        "Final model selection"
      ]
    },
    {
      "cell_type": "code",
      "metadata": {
        "colab": {
          "base_uri": "https://localhost:8080/",
          "height": 136
        },
        "id": "6kgaSjlgK7rI",
        "outputId": "59f0f9a4-2329-4a9e-96ad-af2a1bc181ee"
      },
      "source": [
        "xs_test = scaler.transform(xtest)\n",
        "y_pred = model.predict(xs_test)\n",
        "y=pd.DataFrame(y_pred)\n",
        "y.columns=['TARGET']\n",
        "outcome = pd.concat([test_id,y],axis=1)\n",
        "outcome.head(3)"
      ],
      "execution_count": 37,
      "outputs": [
        {
          "output_type": "execute_result",
          "data": {
            "text/html": [
              "<div>\n",
              "<style scoped>\n",
              "    .dataframe tbody tr th:only-of-type {\n",
              "        vertical-align: middle;\n",
              "    }\n",
              "\n",
              "    .dataframe tbody tr th {\n",
              "        vertical-align: top;\n",
              "    }\n",
              "\n",
              "    .dataframe thead th {\n",
              "        text-align: right;\n",
              "    }\n",
              "</style>\n",
              "<table border=\"1\" class=\"dataframe\">\n",
              "  <thead>\n",
              "    <tr style=\"text-align: right;\">\n",
              "      <th></th>\n",
              "      <th>SK_ID_CURR</th>\n",
              "      <th>TARGET</th>\n",
              "    </tr>\n",
              "  </thead>\n",
              "  <tbody>\n",
              "    <tr>\n",
              "      <th>0</th>\n",
              "      <td>100001</td>\n",
              "      <td>0.026793</td>\n",
              "    </tr>\n",
              "    <tr>\n",
              "      <th>1</th>\n",
              "      <td>100005</td>\n",
              "      <td>0.105781</td>\n",
              "    </tr>\n",
              "    <tr>\n",
              "      <th>2</th>\n",
              "      <td>100013</td>\n",
              "      <td>0.035728</td>\n",
              "    </tr>\n",
              "  </tbody>\n",
              "</table>\n",
              "</div>"
            ],
            "text/plain": [
              "   SK_ID_CURR    TARGET\n",
              "0      100001  0.026793\n",
              "1      100005  0.105781\n",
              "2      100013  0.035728"
            ]
          },
          "metadata": {
            "tags": []
          },
          "execution_count": 37
        }
      ]
    },
    {
      "cell_type": "code",
      "metadata": {
        "id": "1qfC1nFYSD2-"
      },
      "source": [
        "outcome.to_csv (r'/content/drive/MyDrive/pred_test.csv', index = False, header=True)"
      ],
      "execution_count": 38,
      "outputs": []
    },
    {
      "cell_type": "markdown",
      "metadata": {
        "id": "3znPnfi4SdN_"
      },
      "source": [
        "#Kaggle submission\n",
        "I only used features from application_train file. <br/>\n",
        "Previous score was 0.68725 <br/>\n",
        "This time score was 0.70733 <br/>\n"
      ]
    },
    {
      "cell_type": "code",
      "metadata": {
        "id": "t1jt7AKwK59u"
      },
      "source": [
        ""
      ],
      "execution_count": null,
      "outputs": []
    }
  ]
}