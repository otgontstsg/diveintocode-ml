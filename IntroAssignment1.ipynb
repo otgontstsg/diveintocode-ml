{
 "cells": [
  {
   "cell_type": "code",
   "execution_count": 2,
   "metadata": {
    "collapsed": true
   },
   "outputs": [],
   "source": [
    "#library\n",
    "import numpy as np\n",
    "import matplotlib.pyplot as plt"
   ]
  },
  {
   "cell_type": "markdown",
   "metadata": {},
   "source": [
    "# Problem 1\n",
    "Number of grains on the 100th day"
   ]
  },
  {
   "cell_type": "code",
   "execution_count": 3,
   "metadata": {},
   "outputs": [
    {
     "name": "stdout",
     "output_type": "stream",
     "text": [
      "Grains of rice on the 100th day: 633825300114114700748351602688\n"
     ]
    }
   ],
   "source": [
    "days = list(range(1,101))\n",
    "grains = []\n",
    "for i in range(100):\n",
    "    grains.append(2**i)\n",
    "print(\"Grains of rice on the 100th day:\",grains[99])"
   ]
  },
  {
   "cell_type": "code",
   "execution_count": 4,
   "metadata": {},
   "outputs": [
    {
     "name": "stdout",
     "output_type": "stream",
     "text": [
      "Total grains of rice for 100 days:  1267650600228229401496703205375\n",
      "Total grains of rice for 100 days (with separator):  1,267,650,600,228,229,401,496,703,205,375\n"
     ]
    }
   ],
   "source": [
    "total_grains = sum(grains)\n",
    "print(\"Total grains of rice for 100 days: \", total_grains)\n",
    "print(\"Total grains of rice for 100 days (with separator): \", f\"{total_grains:,}\")"
   ]
  },
  {
   "cell_type": "code",
   "execution_count": 5,
   "metadata": {},
   "outputs": [
    {
     "data": {
      "image/png": "[encoded data removed]",
      "text/plain": [
       "<matplotlib.figure.Figure at 0x5762210>"
      ]
     },
     "metadata": {},
     "output_type": "display_data"
    }
   ],
   "source": [
    "plt.title(\"Grains of rice\",fontsize=13)\n",
    "plt.xlabel(\"Number of days\",fontsize=12)\n",
    "plt.ylabel(\"Number of grains\",fontsize=12)\n",
    "plt.plot(days,grains,color=\"red\") \n",
    "plt.grid()\n",
    "plt.show()"
   ]
  },
  {
   "cell_type": "markdown",
   "metadata": {},
   "source": [
    "# Problem 2\n",
    "Function"
   ]
  },
  {
   "cell_type": "code",
   "execution_count": 6,
   "metadata": {},
   "outputs": [
    {
     "name": "stdout",
     "output_type": "stream",
     "text": [
      "List of grains per day: [1, 2, 4, 8, 16, 32, 64, 128, 256, 512]\n",
      "List of total number of grains by that day: [1, 3, 7, 15, 31, 63, 127, 255, 511, 1023]\n"
     ]
    }
   ],
   "source": [
    "def compute_sorori_shinzaemon(day=100):\n",
    "    \"\"\"\n",
    "    day: int\n",
    "        Number of days to get rice (default : 100)\n",
    "    Returns\n",
    "    --------------\n",
    "    list_n_grains : list\n",
    "        List of the number of rice you get one day (the length of the list is equal to day)\n",
    "    list_total_grains : list\n",
    "        List of the total number of rice you will receive by a certain day (the length of the list will be equal to day)\n",
    "    \"\"\"\n",
    "    list_grains = []\n",
    "    total = 0\n",
    "    list_total = []\n",
    "    for i in range(day):\n",
    "        today = 2**i\n",
    "        total = total + today\n",
    "        list_grains.append(today)\n",
    "        list_total.append(total)\n",
    "    return list_grains, list_total\n",
    "list_n_grains, list_total_grains = compute_sorori_shinzaemon(day=10)\n",
    "print(\"List of grains per day:\",list_n_grains)\n",
    "print(\"List of total number of grains by that day:\",list_total_grains)"
   ]
  },
  {
   "cell_type": "markdown",
   "metadata": {},
   "source": [
    "# Problem 3\n",
    "How many people can live for how many days with the rice we get?"
   ]
  },
  {
   "cell_type": "code",
   "execution_count": 18,
   "metadata": {},
   "outputs": [
    {
     "name": "stdout",
     "output_type": "stream",
     "text": [
      "100th day grains can feed 7 billion people for  6232548970599775.0 days.\n",
      "100th day grains can feed 7 billion people for 17075476631780.2 years.\n",
      "100th day grains can feed 7 billion people for 170754766317.8 centuries.\n",
      "100th day grains can feed 7 billion people for 17075476631.8 millenniums.\n",
      "If compare with earth's age (4.543 billion years), this time duration is 1371902 times long.\n"
     ]
    }
   ],
   "source": [
    "def compute_days_to_live(number_of_grains,number_of_people):\n",
    "    grain_weight = 1/64 # grain of rice weights 1/64 gram\n",
    "    # Rice consumption per capita (Japan,2015) was 82.8 kg. It means average day consumption per person is 227g.\n",
    "    daily_rice_cons = 227/grain_weight  # average grain consumption per day per person: 14528  \n",
    "    days_to_live = number_of_grains/(number_of_people*daily_rice_cons)\n",
    "    return days_to_live\n",
    "# How many days can live with 100th day grains and 7 billion people \n",
    "## grains[99] is the grains of rice that will be given on the 100th day \n",
    "number_of_days = compute_days_to_live(number_of_grains=grains[99],number_of_people=7000000000)\n",
    "print(\"100th day grains can feed 7 billion people for \",number_of_days,\"days.\") \n",
    "print(\"100th day grains can feed 7 billion people for {:.1f}\".format(number_of_days/365),\"years.\") \n",
    "print(\"100th day grains can feed 7 billion people for {:.1f}\".format(number_of_days/365/100),\"centuries.\")\n",
    "print(\"100th day grains can feed 7 billion people for {:.1f}\".format(number_of_days/365/1000),\"millenniums.\")\n",
    "print(\"If compare with earth's age (4.543 billion years), this time duration is {:.0f}\".format(number_of_days/4543000000),\"times long.\")"
   ]
  }
 ],
 "metadata": {
  "kernelspec": {
   "display_name": "Python 3",
   "language": "python",
   "name": "python3"
  },
  "language_info": {
   "codemirror_mode": {
    "name": "ipython",
    "version": 3
   },
   "file_extension": ".py",
   "mimetype": "text/x-python",
   "name": "python",
   "nbconvert_exporter": "python",
   "pygments_lexer": "ipython3",
   "version": "3.6.1"
  }
 },
 "nbformat": 4,
 "nbformat_minor": 2
}
