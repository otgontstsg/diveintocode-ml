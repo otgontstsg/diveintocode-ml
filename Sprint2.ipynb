{
  "nbformat": 4,
  "nbformat_minor": 0,
  "metadata": {
    "colab": {
      "name": "Sprint2.ipynb",
      "provenance": [],
      "collapsed_sections": [],
      "authorship_tag": "ABX9TyOh55mDPN6+/QTsqfql4oie"
    },
    "kernelspec": {
      "name": "python3",
      "display_name": "Python 3"
    },
    "language_info": {
      "name": "python"
    }
  },
  "cells": [
    {
      "cell_type": "code",
      "metadata": {
        "colab": {
          "base_uri": "https://localhost:8080/"
        },
        "id": "cVFPfS-BAWYQ",
        "outputId": "6f3742f6-45c4-45c6-ddc3-5b96d0a9b1af"
      },
      "source": [
        "import numpy as np\n",
        "import pandas as pd\n",
        "from google.colab import drive\n",
        "drive.mount('/content/drive/')"
      ],
      "execution_count": 4,
      "outputs": [
        {
          "output_type": "stream",
          "text": [
            "Mounted at /content/drive/\n"
          ],
          "name": "stdout"
        }
      ]
    },
    {
      "cell_type": "markdown",
      "metadata": {
        "id": "afDaX-Cs-IFb"
      },
      "source": [
        "#Problem 1\n",
        "train_test_split Scratch"
      ]
    },
    {
      "cell_type": "code",
      "metadata": {
        "id": "Uz1GGFn_-HUN"
      },
      "source": [
        "def scratch_train_test_split(X, y, rand_state, train_size=0.8):\n",
        "    \"\"\"Divide the validation data.\n",
        "    X_train : ndarray\n",
        "      Training data (n_samples, n_features)\n",
        "    X_test : ndarray\n",
        "      Validation data (n_samples, n_features)\n",
        "    y_train : ndarray\n",
        "      Correct answer value of training data (n_samples,)\n",
        "    y_test : ndarray\n",
        "      Correct value of verification data (n_samples,)\n",
        "    \"\"\"\n",
        "    # Write code here\n",
        "    if len(X) != len(y):\n",
        "            raise ValueError(\"X and y should be same lenght\")\n",
        "    temp = pd.concat([X,y],axis=1)\n",
        "    data = temp.sample(frac=1,axis=0,random_state=rand_state) \n",
        "    train_idx = int(train_size * len(data))\n",
        "    train_set = data[:train_idx]\n",
        "    test_set = data[train_idx:]\n",
        "    X_train = train_set.iloc[:,:-1] \n",
        "    X_test = test_set.iloc[:,:-1]\n",
        "    y_train = train_set.iloc[:,-1:] \n",
        "    y_test = test_set.iloc[:,-1:]\n",
        "    return X_train, X_test, y_train, y_test"
      ],
      "execution_count": 14,
      "outputs": []
    },
    {
      "cell_type": "code",
      "metadata": {
        "colab": {
          "base_uri": "https://localhost:8080/",
          "height": 153
        },
        "id": "ygYTSBVRGgzb",
        "outputId": "43952791-3c32-448a-aef1-4e37a4a7670f"
      },
      "source": [
        "from sklearn.datasets import load_iris\n",
        "data = load_iris()\n",
        "X=pd.DataFrame(data.data)\n",
        "y=pd.DataFrame(data.target)\n",
        "X.columns = [s.strip(' (cm)') for s in data.feature_names]\n",
        "y.columns = [\"species\"]\n",
        "df = pd.concat([X,y],axis=1)\n",
        "print(df.shape)\n",
        "df.head(3)"
      ],
      "execution_count": 28,
      "outputs": [
        {
          "output_type": "stream",
          "text": [
            "(150, 5)\n"
          ],
          "name": "stdout"
        },
        {
          "output_type": "execute_result",
          "data": {
            "text/html": [
              "<div>\n",
              "<style scoped>\n",
              "    .dataframe tbody tr th:only-of-type {\n",
              "        vertical-align: middle;\n",
              "    }\n",
              "\n",
              "    .dataframe tbody tr th {\n",
              "        vertical-align: top;\n",
              "    }\n",
              "\n",
              "    .dataframe thead th {\n",
              "        text-align: right;\n",
              "    }\n",
              "</style>\n",
              "<table border=\"1\" class=\"dataframe\">\n",
              "  <thead>\n",
              "    <tr style=\"text-align: right;\">\n",
              "      <th></th>\n",
              "      <th>sepal length</th>\n",
              "      <th>sepal width</th>\n",
              "      <th>petal length</th>\n",
              "      <th>petal width</th>\n",
              "      <th>species</th>\n",
              "    </tr>\n",
              "  </thead>\n",
              "  <tbody>\n",
              "    <tr>\n",
              "      <th>0</th>\n",
              "      <td>5.1</td>\n",
              "      <td>3.5</td>\n",
              "      <td>1.4</td>\n",
              "      <td>0.2</td>\n",
              "      <td>0</td>\n",
              "    </tr>\n",
              "    <tr>\n",
              "      <th>1</th>\n",
              "      <td>4.9</td>\n",
              "      <td>3.0</td>\n",
              "      <td>1.4</td>\n",
              "      <td>0.2</td>\n",
              "      <td>0</td>\n",
              "    </tr>\n",
              "    <tr>\n",
              "      <th>2</th>\n",
              "      <td>4.7</td>\n",
              "      <td>3.2</td>\n",
              "      <td>1.3</td>\n",
              "      <td>0.2</td>\n",
              "      <td>0</td>\n",
              "    </tr>\n",
              "  </tbody>\n",
              "</table>\n",
              "</div>"
            ],
            "text/plain": [
              "   sepal length  sepal width  petal length  petal width  species\n",
              "0           5.1          3.5           1.4          0.2        0\n",
              "1           4.9          3.0           1.4          0.2        0\n",
              "2           4.7          3.2           1.3          0.2        0"
            ]
          },
          "metadata": {
            "tags": []
          },
          "execution_count": 28
        }
      ]
    },
    {
      "cell_type": "code",
      "metadata": {
        "colab": {
          "base_uri": "https://localhost:8080/"
        },
        "id": "If-DtYG6J2q4",
        "outputId": "11d7ff06-be01-4e25-c8ac-956c28f654f2"
      },
      "source": [
        "# tested the user function on iris dataset split\n",
        "X_train, X_test, y_train, y_test = scratch_train_test_split(X, y, rand_state=2, train_size=0.8)\n",
        "print(X_train.shape)\n",
        "print(X_test.shape)\n",
        "print(y_train.shape)\n",
        "print(y_test.shape)"
      ],
      "execution_count": 34,
      "outputs": [
        {
          "output_type": "stream",
          "text": [
            "(120, 4)\n",
            "(30, 4)\n",
            "(120, 1)\n",
            "(30, 1)\n"
          ],
          "name": "stdout"
        }
      ]
    },
    {
      "cell_type": "code",
      "metadata": {
        "colab": {
          "base_uri": "https://localhost:8080/"
        },
        "id": "L1dkUls4LQAH",
        "outputId": "8a36f698-923f-4153-ab0f-b9f5f9b3e3d2"
      },
      "source": [
        "# split using sklearn\n",
        "from sklearn.model_selection import train_test_split\n",
        "X_train, X_test, y_train, y_test = train_test_split(X, y, test_size=0.2, random_state=2)\n",
        "print(X_train.shape)\n",
        "print(X_test.shape)\n",
        "print(y_train.shape)\n",
        "print(y_test.shape)"
      ],
      "execution_count": 35,
      "outputs": [
        {
          "output_type": "stream",
          "text": [
            "(120, 4)\n",
            "(30, 4)\n",
            "(120, 1)\n",
            "(30, 1)\n"
          ],
          "name": "stdout"
        }
      ]
    },
    {
      "cell_type": "markdown",
      "metadata": {
        "id": "_FJzoJBgaGG9"
      },
      "source": [
        "#Problem 2\n",
        "Creating code to solve the classification problem\n"
      ]
    },
    {
      "cell_type": "code",
      "metadata": {
        "colab": {
          "base_uri": "https://localhost:8080/",
          "height": 153
        },
        "id": "pU3C_TJQTIok",
        "outputId": "24ea9818-09c9-4565-dce6-6c62d048f223"
      },
      "source": [
        "data = df.loc[df['species'].isin([1, 2]),:].reset_index(drop=True)\n",
        "data.loc[data.species == 2,'species'] = 0\n",
        "print(data.shape)\n",
        "data.tail(3)"
      ],
      "execution_count": 36,
      "outputs": [
        {
          "output_type": "stream",
          "text": [
            "(100, 5)\n"
          ],
          "name": "stdout"
        },
        {
          "output_type": "execute_result",
          "data": {
            "text/html": [
              "<div>\n",
              "<style scoped>\n",
              "    .dataframe tbody tr th:only-of-type {\n",
              "        vertical-align: middle;\n",
              "    }\n",
              "\n",
              "    .dataframe tbody tr th {\n",
              "        vertical-align: top;\n",
              "    }\n",
              "\n",
              "    .dataframe thead th {\n",
              "        text-align: right;\n",
              "    }\n",
              "</style>\n",
              "<table border=\"1\" class=\"dataframe\">\n",
              "  <thead>\n",
              "    <tr style=\"text-align: right;\">\n",
              "      <th></th>\n",
              "      <th>sepal length</th>\n",
              "      <th>sepal width</th>\n",
              "      <th>petal length</th>\n",
              "      <th>petal width</th>\n",
              "      <th>species</th>\n",
              "    </tr>\n",
              "  </thead>\n",
              "  <tbody>\n",
              "    <tr>\n",
              "      <th>97</th>\n",
              "      <td>6.5</td>\n",
              "      <td>3.0</td>\n",
              "      <td>5.2</td>\n",
              "      <td>2.0</td>\n",
              "      <td>0</td>\n",
              "    </tr>\n",
              "    <tr>\n",
              "      <th>98</th>\n",
              "      <td>6.2</td>\n",
              "      <td>3.4</td>\n",
              "      <td>5.4</td>\n",
              "      <td>2.3</td>\n",
              "      <td>0</td>\n",
              "    </tr>\n",
              "    <tr>\n",
              "      <th>99</th>\n",
              "      <td>5.9</td>\n",
              "      <td>3.0</td>\n",
              "      <td>5.1</td>\n",
              "      <td>1.8</td>\n",
              "      <td>0</td>\n",
              "    </tr>\n",
              "  </tbody>\n",
              "</table>\n",
              "</div>"
            ],
            "text/plain": [
              "    sepal length  sepal width  petal length  petal width  species\n",
              "97           6.5          3.0           5.2          2.0        0\n",
              "98           6.2          3.4           5.4          2.3        0\n",
              "99           5.9          3.0           5.1          1.8        0"
            ]
          },
          "metadata": {
            "tags": []
          },
          "execution_count": 36
        }
      ]
    },
    {
      "cell_type": "code",
      "metadata": {
        "colab": {
          "base_uri": "https://localhost:8080/"
        },
        "id": "GtpgPW_7UxEy",
        "outputId": "5e00275e-af59-41e0-c999-5bf5bafd67b5"
      },
      "source": [
        "X1 = data.drop(['species'],axis=1)\n",
        "y1 = data.iloc[:,-1]\n",
        "print(X1.shape)\n",
        "print(y1.shape)"
      ],
      "execution_count": 37,
      "outputs": [
        {
          "output_type": "stream",
          "text": [
            "(100, 4)\n",
            "(100,)\n"
          ],
          "name": "stdout"
        }
      ]
    },
    {
      "cell_type": "code",
      "metadata": {
        "colab": {
          "base_uri": "https://localhost:8080/"
        },
        "id": "D3x4k7YOUOc2",
        "outputId": "1a6e8a31-a680-44a3-d829-150fe07c96d7"
      },
      "source": [
        "# dataset 2\n",
        "np.random.seed(seed=0)\n",
        "n_samples = 500\n",
        "f0 = [-1, 2]\n",
        "f1 = [2, -1]\n",
        "cov = [[1.0,0.8], [0.8, 1.0]]\n",
        "f0 = np.random.multivariate_normal(f0, cov, n_samples // 2)\n",
        "f1 = np.random.multivariate_normal(f1, cov, n_samples // 2)\n",
        "X2 = np.concatenate([f0, f1])\n",
        "y2 = np.concatenate([\n",
        "    np.full(n_samples // 2, 1),\n",
        "    np.full(n_samples // 2, -1)\n",
        "])\n",
        "X2 = pd.DataFrame(X2)\n",
        "y2 = pd.DataFrame(y2)\n",
        "print(X2.shape)\n",
        "print(y2.shape)"
      ],
      "execution_count": 47,
      "outputs": [
        {
          "output_type": "stream",
          "text": [
            "(500, 2)\n",
            "(500, 1)\n"
          ],
          "name": "stdout"
        }
      ]
    },
    {
      "cell_type": "code",
      "metadata": {
        "colab": {
          "base_uri": "https://localhost:8080/"
        },
        "id": "yexU-urXVqcA",
        "outputId": "445d3d58-cc0f-4c5c-dcfa-39b6bad601e1"
      },
      "source": [
        "# dataset3\n",
        "X3 = np.array([\n",
        "    [-0.44699 , -2.8073  ],[-1.4621  , -2.4586  ],\n",
        "    [ 0.10645 ,  1.9242  ],[-3.5944  , -4.0112  ],\n",
        "    [-0.9888  ,  4.5718  ],[-3.1625  , -3.9606  ],\n",
        "    [ 0.56421 ,  0.72888 ],[-0.60216 ,  8.4636  ],\n",
        "    [-0.61251 , -0.75345 ],[-0.73535 , -2.2718  ],\n",
        "    [-0.80647 , -2.2135  ],[ 0.86291 ,  2.3946  ],\n",
        "    [-3.1108  ,  0.15394 ],[-2.9362  ,  2.5462  ],\n",
        "    [-0.57242 , -2.9915  ],[ 1.4771  ,  3.4896  ],\n",
        "    [ 0.58619 ,  0.37158 ],[ 0.6017  ,  4.3439  ],\n",
        "    [-2.1086  ,  8.3428  ],[-4.1013  , -4.353   ],\n",
        "    [-1.9948  , -1.3927  ],[ 0.35084 , -0.031994],\n",
        "    [ 0.96765 ,  7.8929  ],[-1.281   , 15.6824  ],\n",
        "    [ 0.96765 , 10.083   ],[ 1.3763  ,  1.3347  ],\n",
        "    [-2.234   , -2.5323  ],[-2.9452  , -1.8219  ],\n",
        "    [ 0.14654 , -0.28733 ],[ 0.5461  ,  5.8245  ],\n",
        "    [-0.65259 ,  9.3444  ],[ 0.59912 ,  5.3524  ],\n",
        "    [ 0.50214 , -0.31818 ],[-3.0603  , -3.6461  ],\n",
        "    [-6.6797  ,  0.67661 ],[-2.353   , -0.72261 ],\n",
        "    [ 1.1319  ,  2.4023  ],[-0.12243 ,  9.0162  ],\n",
        "    [-2.5677  , 13.1779  ],[ 0.057313,  5.4681  ],\n",
        "])\n",
        "y3 = np.array([0, 0, 0, 0, 0, 0, 0, 0, 0, 0, 0, 0, 0, 0, 0, 0, 0, 0, 0, 0, 1, 1,\n",
        "       1, 1, 1, 1, 1, 1, 1, 1, 1, 1, 1, 1, 1, 1, 1, 1, 1, 1])\n",
        "X3 = pd.DataFrame(X3)\n",
        "y3 = pd.DataFrame(y3)\n",
        "print(X3.shape)\n",
        "print(y3.shape)"
      ],
      "execution_count": 48,
      "outputs": [
        {
          "output_type": "stream",
          "text": [
            "(40, 2)\n",
            "(40, 1)\n"
          ],
          "name": "stdout"
        }
      ]
    },
    {
      "cell_type": "code",
      "metadata": {
        "colab": {
          "base_uri": "https://localhost:8080/"
        },
        "id": "1q1zDbyVXCyp",
        "outputId": "9010bdf8-c1ec-435b-d012-de0cff6017d2"
      },
      "source": [
        "# train and test split using user function\n",
        "X1_train, X1_test, y1_train, y1_test = scratch_train_test_split(X1, y1, rand_state=2, train_size=0.8)\n",
        "print(len(X1_train),len(X1_test))\n",
        "X2_train, X2_test, y2_train, y2_test = scratch_train_test_split(X2, y2, rand_state=2, train_size=0.8)\n",
        "print(len(X2_train),len(X2_test))\n",
        "X3_train, X3_test, y3_train, y3_test = scratch_train_test_split(X3, y3, rand_state=2, train_size=0.8)\n",
        "print(len(X3_train),len(X3_test))"
      ],
      "execution_count": 49,
      "outputs": [
        {
          "output_type": "stream",
          "text": [
            "80 20\n",
            "400 100\n",
            "32 8\n"
          ],
          "name": "stdout"
        }
      ]
    },
    {
      "cell_type": "code",
      "metadata": {
        "colab": {
          "base_uri": "https://localhost:8080/"
        },
        "id": "d823t925V2fD",
        "outputId": "71f18801-120e-4024-e8e2-af29d64e2d17"
      },
      "source": [
        "logreg = []\n",
        "# method 1\n",
        "from sklearn.linear_model import SGDClassifier\n",
        "from sklearn.preprocessing import StandardScaler\n",
        "from sklearn.pipeline import make_pipeline\n",
        "from sklearn.metrics import accuracy_score\n",
        "model1 = make_pipeline(StandardScaler(),SGDClassifier(max_iter=1000, tol=1e-3)).fit(X1_train,y1_train.values.ravel())\n",
        "logreg.append(accuracy_score(y1_test,model1.predict(X1_test)))\n",
        "model1 = make_pipeline(StandardScaler(),SGDClassifier(max_iter=1000, tol=1e-3)).fit(X2_train,y2_train.values.ravel())\n",
        "logreg.append(accuracy_score(y2_test,model1.predict(X2_test)))\n",
        "model1 = make_pipeline(StandardScaler(),SGDClassifier(max_iter=1000, tol=1e-3)).fit(X3_train,y3_train.values.ravel())\n",
        "logreg.append(accuracy_score(y3_test,model1.predict(X3_test)))\n",
        "logreg"
      ],
      "execution_count": 59,
      "outputs": [
        {
          "output_type": "execute_result",
          "data": {
            "text/plain": [
              "[0.9, 1.0, 0.5]"
            ]
          },
          "metadata": {
            "tags": []
          },
          "execution_count": 59
        }
      ]
    },
    {
      "cell_type": "code",
      "metadata": {
        "colab": {
          "base_uri": "https://localhost:8080/"
        },
        "id": "sYe6ac5Xt9fT",
        "outputId": "50ff9adb-da1c-4e41-fdaf-c631930c8333"
      },
      "source": [
        "svc = []\n",
        "# method 2\n",
        "from sklearn.svm import SVC\n",
        "model2 = make_pipeline(StandardScaler(), SVC(gamma='auto')).fit(X1_train, y1_train.values.ravel())\n",
        "svc.append(accuracy_score(y1_test,model2.predict(X1_test)))\n",
        "model2 = make_pipeline(StandardScaler(), SVC(gamma='auto')).fit(X2_train, y2_train.values.ravel())\n",
        "svc.append(accuracy_score(y2_test,model2.predict(X2_test)))\n",
        "model2 = make_pipeline(StandardScaler(), SVC(gamma='auto')).fit(X3_train, y3_train.values.ravel())\n",
        "svc.append(accuracy_score(y3_test,model2.predict(X3_test)))\n",
        "svc"
      ],
      "execution_count": 60,
      "outputs": [
        {
          "output_type": "execute_result",
          "data": {
            "text/plain": [
              "[0.9, 1.0, 0.375]"
            ]
          },
          "metadata": {
            "tags": []
          },
          "execution_count": 60
        }
      ]
    },
    {
      "cell_type": "code",
      "metadata": {
        "colab": {
          "base_uri": "https://localhost:8080/"
        },
        "id": "upQL3O26yBzo",
        "outputId": "34f65bfb-e14c-417d-f117-d6b295dcc8d5"
      },
      "source": [
        "dtree = []\n",
        "#method 3\n",
        "from sklearn.tree import DecisionTreeClassifier\n",
        "model3 = DecisionTreeClassifier(random_state=0).fit(X1_train, y1_train.values.ravel())\n",
        "dtree.append(accuracy_score(y1_test,model3.predict(X1_test)))\n",
        "model3 = DecisionTreeClassifier(random_state=0).fit(X2_train, y2_train.values.ravel())\n",
        "dtree.append(accuracy_score(y2_test,model3.predict(X2_test)))\n",
        "model3 = DecisionTreeClassifier(random_state=0).fit(X3_train, y3_train.values.ravel())\n",
        "dtree.append(accuracy_score(y3_test,model3.predict(X3_test)))\n",
        "dtree"
      ],
      "execution_count": 61,
      "outputs": [
        {
          "output_type": "execute_result",
          "data": {
            "text/plain": [
              "[0.9, 1.0, 0.5]"
            ]
          },
          "metadata": {
            "tags": []
          },
          "execution_count": 61
        }
      ]
    },
    {
      "cell_type": "code",
      "metadata": {
        "colab": {
          "base_uri": "https://localhost:8080/",
          "height": 136
        },
        "id": "9xYsA8OVzF35",
        "outputId": "b5128ddc-2d94-493a-e873-074b7e6bbcb0"
      },
      "source": [
        "# accuracy of 3 methods on 3 datasets\n",
        "acc = pd.concat([pd.DataFrame(logreg),pd.DataFrame(svc),pd.DataFrame(dtree)],axis=1)\n",
        "acc.columns = ['LR','SVC','DTree']\n",
        "acc.index=['iris','ds1','ds1']\n",
        "acc"
      ],
      "execution_count": 65,
      "outputs": [
        {
          "output_type": "execute_result",
          "data": {
            "text/html": [
              "<div>\n",
              "<style scoped>\n",
              "    .dataframe tbody tr th:only-of-type {\n",
              "        vertical-align: middle;\n",
              "    }\n",
              "\n",
              "    .dataframe tbody tr th {\n",
              "        vertical-align: top;\n",
              "    }\n",
              "\n",
              "    .dataframe thead th {\n",
              "        text-align: right;\n",
              "    }\n",
              "</style>\n",
              "<table border=\"1\" class=\"dataframe\">\n",
              "  <thead>\n",
              "    <tr style=\"text-align: right;\">\n",
              "      <th></th>\n",
              "      <th>LR</th>\n",
              "      <th>SVC</th>\n",
              "      <th>DTree</th>\n",
              "    </tr>\n",
              "  </thead>\n",
              "  <tbody>\n",
              "    <tr>\n",
              "      <th>iris</th>\n",
              "      <td>0.9</td>\n",
              "      <td>0.900</td>\n",
              "      <td>0.9</td>\n",
              "    </tr>\n",
              "    <tr>\n",
              "      <th>ds1</th>\n",
              "      <td>1.0</td>\n",
              "      <td>1.000</td>\n",
              "      <td>1.0</td>\n",
              "    </tr>\n",
              "    <tr>\n",
              "      <th>ds1</th>\n",
              "      <td>0.5</td>\n",
              "      <td>0.375</td>\n",
              "      <td>0.5</td>\n",
              "    </tr>\n",
              "  </tbody>\n",
              "</table>\n",
              "</div>"
            ],
            "text/plain": [
              "       LR    SVC  DTree\n",
              "iris  0.9  0.900    0.9\n",
              "ds1   1.0  1.000    1.0\n",
              "ds1   0.5  0.375    0.5"
            ]
          },
          "metadata": {
            "tags": []
          },
          "execution_count": 65
        }
      ]
    },
    {
      "cell_type": "markdown",
      "metadata": {
        "id": "LZZ3tAjFzY-g"
      },
      "source": [
        "# Problem 3\n"
      ]
    },
    {
      "cell_type": "code",
      "metadata": {
        "id": "t1jt7AKwK59u",
        "colab": {
          "base_uri": "https://localhost:8080/",
          "height": 153
        },
        "outputId": "5dbd4c1b-635b-44a7-ccc2-51ab2ebf463b"
      },
      "source": [
        "train = pd.read_csv('/content/drive/MyDrive/ColabData/train.csv')\n",
        "data = train.loc[:,['GrLivArea','YearBuilt','SalePrice']]\n",
        "print(data.shape)\n",
        "data.head(3)"
      ],
      "execution_count": 66,
      "outputs": [
        {
          "output_type": "stream",
          "text": [
            "(1460, 3)\n"
          ],
          "name": "stdout"
        },
        {
          "output_type": "execute_result",
          "data": {
            "text/html": [
              "<div>\n",
              "<style scoped>\n",
              "    .dataframe tbody tr th:only-of-type {\n",
              "        vertical-align: middle;\n",
              "    }\n",
              "\n",
              "    .dataframe tbody tr th {\n",
              "        vertical-align: top;\n",
              "    }\n",
              "\n",
              "    .dataframe thead th {\n",
              "        text-align: right;\n",
              "    }\n",
              "</style>\n",
              "<table border=\"1\" class=\"dataframe\">\n",
              "  <thead>\n",
              "    <tr style=\"text-align: right;\">\n",
              "      <th></th>\n",
              "      <th>GrLivArea</th>\n",
              "      <th>YearBuilt</th>\n",
              "      <th>SalePrice</th>\n",
              "    </tr>\n",
              "  </thead>\n",
              "  <tbody>\n",
              "    <tr>\n",
              "      <th>0</th>\n",
              "      <td>1710</td>\n",
              "      <td>2003</td>\n",
              "      <td>208500</td>\n",
              "    </tr>\n",
              "    <tr>\n",
              "      <th>1</th>\n",
              "      <td>1262</td>\n",
              "      <td>1976</td>\n",
              "      <td>181500</td>\n",
              "    </tr>\n",
              "    <tr>\n",
              "      <th>2</th>\n",
              "      <td>1786</td>\n",
              "      <td>2001</td>\n",
              "      <td>223500</td>\n",
              "    </tr>\n",
              "  </tbody>\n",
              "</table>\n",
              "</div>"
            ],
            "text/plain": [
              "   GrLivArea  YearBuilt  SalePrice\n",
              "0       1710       2003     208500\n",
              "1       1262       1976     181500\n",
              "2       1786       2001     223500"
            ]
          },
          "metadata": {
            "tags": []
          },
          "execution_count": 66
        }
      ]
    },
    {
      "cell_type": "code",
      "metadata": {
        "colab": {
          "base_uri": "https://localhost:8080/"
        },
        "id": "vv3tyupw3Vb0",
        "outputId": "abaa6a2e-f76b-435f-f0af-54205906875d"
      },
      "source": [
        "X_train, X_test, y_train, y_test = scratch_train_test_split(data.loc[:,['GrLivArea','YearBuilt']], data.loc[:,'SalePrice'], rand_state=2, train_size=0.8)\n",
        "print(len(X_train),len(X_test))\n",
        "from sklearn.linear_model import SGDRegressor\n",
        "from sklearn.metrics import mean_absolute_error\n",
        "from sklearn.metrics import r2_score\n",
        "reg = make_pipeline(StandardScaler(),SGDRegressor(max_iter=1000, tol=1e-3)).fit(X_train, y_train.values.ravel())\n",
        "y_pred = reg.predict(X_test)\n",
        "print(\"Mean absolute error:\",mean_absolute_error(y_test, y_pred))\n",
        "print(\"R2 of testing\",r2_score(y_test, y_pred))"
      ],
      "execution_count": 70,
      "outputs": [
        {
          "output_type": "stream",
          "text": [
            "1168 292\n",
            "Mean absolute error: 28300.810494638106\n",
            "R2 of testing 0.6633065187626935\n"
          ],
          "name": "stdout"
        }
      ]
    }
  ]
}