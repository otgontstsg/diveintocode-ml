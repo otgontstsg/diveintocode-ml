{
 "cells": [
  {
   "cell_type": "code",
   "execution_count": 6,
   "metadata": {
    "collapsed": true
   },
   "outputs": [],
   "source": [
    "import numpy as np\n",
    "import math"
   ]
  },
  {
   "cell_type": "markdown",
   "metadata": {},
   "source": [
    "# Problem 1\n",
    "Min # of folds over Mt.Fuji"
   ]
  },
  {
   "cell_type": "code",
   "execution_count": 9,
   "metadata": {},
   "outputs": [
    {
     "name": "stdout",
     "output_type": "stream",
     "text": [
      "Number of paper folds to exceed Mt. Fuji: 26 times\n"
     ]
    }
   ],
   "source": [
    "def compute_fold_counts (lenght):\n",
    "    THICKNESS = 0.00008\n",
    "    ## used to round-up because it asked for exceeding the 3376m \n",
    "    fold_count = math.ceil(np.log2(lenght/THICKNESS))\n",
    "    return fold_count\n",
    "height_Fuji = 3776\n",
    "print(\"Number of paper folds to exceed Mt. Fuji:\",compute_fold_counts(lenght=height_Fuji),\"times\")"
   ]
  },
  {
   "cell_type": "markdown",
   "metadata": {},
   "source": [
    "# Problem 2\n",
    "Folds to the closest star "
   ]
  },
  {
   "cell_type": "code",
   "execution_count": 11,
   "metadata": {},
   "outputs": [
    {
     "name": "stdout",
     "output_type": "stream",
     "text": [
      "Number of paper folds to reach closest star: 69 times\n"
     ]
    }
   ],
   "source": [
    "def compute_fold_counts (lenght,thickness): \n",
    "    fold_count = math.ceil(np.log2(lenght/thickness))\n",
    "    return fold_count\n",
    "# closest star is Proxima Centauri, distance is 40,208,000,000,000 km = 40 208 000 000 000 000 m\n",
    "distance_Centauri = 40208000000000000\n",
    "THICKNESS = 0.00008\n",
    "print(\"Number of paper folds to reach closest star:\",compute_fold_counts(lenght=distance_Centauri,thickness=THICKNESS),\"times\")"
   ]
  },
  {
   "cell_type": "markdown",
   "metadata": {},
   "source": [
    "# Problem 3\n",
    "Paper lenght"
   ]
  },
  {
   "cell_type": "code",
   "execution_count": 18,
   "metadata": {},
   "outputs": [
    {
     "name": "stdout",
     "output_type": "stream",
     "text": [
      "Paper lenght needed to reach closest star: 1.4595803601100348e+37 m\n",
      "Paper lenght needed to exceed Mt.Fuji: 188646348487.24017 m\n",
      "Paper lenght needed to reach moon: 3.240919444170781e+21 m\n",
      "Paper lenght needed to reach closest star (in astronomical unit): 9.75669207910748e+25 AU\n",
      "Paper lenght needed to exceed Mt.Fuji: 188646348.5 km\n",
      "Paper lenght needed to reach moon (in astronomical unit): 21664208380.81 AU\n"
     ]
    }
   ],
   "source": [
    "def compute_paper_lenght(lenght,thickness): \n",
    "    folds = compute_fold_counts(lenght,thickness)\n",
    "    paper_lenght = (math.pi*thickness/6)*(2**folds+4)*(2**folds-1)\n",
    "    return paper_lenght\n",
    "distance_Centauri = 40208000000000000\n",
    "height_Fuji = 3776\n",
    "distance_moon = 384400000 \n",
    "THICKNESS = 0.00008\n",
    "lenght_Centauri = compute_paper_lenght(lenght=distance_Centauri,thickness=THICKNESS)\n",
    "lenght_Fuji = compute_paper_lenght(lenght=height_Fuji,thickness=THICKNESS)\n",
    "lenght_moon = compute_paper_lenght(lenght=distance_moon,thickness=THICKNESS)\n",
    "print(\"Paper lenght needed to reach closest star:\",lenght_Centauri,\"m\")\n",
    "print(\"Paper lenght needed to exceed Mt.Fuji:\",lenght_Fuji,\"m\")\n",
    "print(\"Paper lenght needed to reach moon:\",lenght_moon,\"m\")\n",
    "print(\"Paper lenght needed to reach closest star (in astronomical unit):\",lenght_Centauri/149597870700,\"AU\")\n",
    "print(\"Paper lenght needed to exceed Mt.Fuji: {:.1f}\".format(lenght_Fuji/1000),\"km\")\n",
    "print(\"Paper lenght needed to reach moon (in astronomical unit): {:.2f}\".format(lenght_moon/149597870700),\"AU\")"
   ]
  }
 ],
 "metadata": {
  "kernelspec": {
   "display_name": "Python 3",
   "language": "python",
   "name": "python3"
  },
  "language_info": {
   "codemirror_mode": {
    "name": "ipython",
    "version": 3
   },
   "file_extension": ".py",
   "mimetype": "text/x-python",
   "name": "python",
   "nbconvert_exporter": "python",
   "pygments_lexer": "ipython3",
   "version": "3.6.1"
  }
 },
 "nbformat": 4,
 "nbformat_minor": 2
}
